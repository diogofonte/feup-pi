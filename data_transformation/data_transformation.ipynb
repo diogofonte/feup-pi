{
 "cells": [
  {
   "cell_type": "markdown",
   "metadata": {
    "application/vnd.databricks.v1+cell": {
     "cellMetadata": {},
     "inputWidgets": {},
     "nuid": "551d8b40-157d-4a1f-98e4-908b6bb7940a",
     "showTitle": false,
     "title": ""
    }
   },
   "source": [
    "## Connection to the Azure SQL Database\n",
    "\n",
    "Defined some variables to programmatically create the connection to the SQL Database."
   ]
  },
  {
   "cell_type": "code",
   "execution_count": 0,
   "metadata": {
    "application/vnd.databricks.v1+cell": {
     "cellMetadata": {
      "byteLimit": 2048000,
      "rowLimit": 10000
     },
     "inputWidgets": {},
     "nuid": "89a21a74-385b-4338-8c50-1498a9a25063",
     "showTitle": false,
     "title": ""
    }
   },
   "outputs": [],
   "source": [
    "jdbcUsername = \"feuplogin\"\n",
    "jdbcPassword = \"Logproject33\"\n",
    "jdbcHostname = \"intranetfeupserver.database.windows.net\"\n",
    "jdbcPort = 1433\n",
    "jdbcDatabase = \"intranet14\"\n",
    "\n",
    "jdbcUrl = \"jdbc:sqlserver://{0}:{1};database={2};encrypt=true;trustServerCertificate=false;hostNameInCertificate=*.database.windows.net;loginTimeout=30;\".format(jdbcHostname, jdbcPort, jdbcDatabase)\n",
    "\n",
    "connectionProperties = {\n",
    "  \"user\": jdbcUsername,\n",
    "  \"password\": jdbcPassword,\n",
    "  \"driver\": \"com.microsoft.sqlserver.jdbc.SQLServerDriver\"\n",
    "}"
   ]
  },
  {
   "cell_type": "markdown",
   "metadata": {
    "application/vnd.databricks.v1+cell": {
     "cellMetadata": {},
     "inputWidgets": {},
     "nuid": "636e288d-0ae6-461e-9680-b0cf6a6fde1c",
     "showTitle": false,
     "title": ""
    }
   },
   "source": [
    "## Read and Transform Data"
   ]
  },
  {
   "cell_type": "markdown",
   "metadata": {
    "application/vnd.databricks.v1+cell": {
     "cellMetadata": {},
     "inputWidgets": {},
     "nuid": "3916e453-c9d5-4965-a5bf-e6e61325f7bd",
     "showTitle": false,
     "title": ""
    }
   },
   "source": [
    "### Calendar Dimension"
   ]
  },
  {
   "cell_type": "code",
   "execution_count": 0,
   "metadata": {
    "application/vnd.databricks.v1+cell": {
     "cellMetadata": {
      "byteLimit": 2048000,
      "rowLimit": 10000
     },
     "inputWidgets": {},
     "nuid": "0c649e9b-e88f-4980-9805-26a6ba76c777",
     "showTitle": false,
     "title": ""
    }
   },
   "outputs": [
    {
     "output_type": "display_data",
     "data": {
      "text/plain": [
       "\u001B[0;31m---------------------------------------------------------------------------\u001B[0m\n",
       "\u001B[0;31mParseException\u001B[0m                            Traceback (most recent call last)\n",
       "File \u001B[0;32m<command-3010843889224577>:12\u001B[0m\n",
       "\u001B[1;32m      9\u001B[0m initial_year_start_date = expr(\"to_date(concat({}, '-01-01'))\".format(initial_year))\n",
       "\u001B[1;32m     10\u001B[0m final_year_end_date = expr(\"to_date(concat({}, '-12-31'))\".format(final_year))\n",
       "\u001B[0;32m---> 12\u001B[0m # Convert new date strings to timestamps\n",
       "\u001B[1;32m     13\u001B[0m initial_year_start_timestamp = expr(\"to_timestamp('{}')\".format(date_format(initial_year_start_date, 'yyyy-MM-dd')))\n",
       "\u001B[1;32m     14\u001B[0m final_year_end_timestamp = expr(\"to_timestamp('{}')\".format(date_format(final_year_end_date, 'yyyy-MM-dd')))\n",
       "\n",
       "File \u001B[0;32m/databricks/spark/python/pyspark/sql/utils.py:164\u001B[0m, in \u001B[0;36mtry_remote_functions.<locals>.wrapped\u001B[0;34m(*args, **kwargs)\u001B[0m\n",
       "\u001B[1;32m    162\u001B[0m     \u001B[38;5;28;01mreturn\u001B[39;00m \u001B[38;5;28mgetattr\u001B[39m(functions, f\u001B[38;5;241m.\u001B[39m\u001B[38;5;18m__name__\u001B[39m)(\u001B[38;5;241m*\u001B[39margs, \u001B[38;5;241m*\u001B[39m\u001B[38;5;241m*\u001B[39mkwargs)\n",
       "\u001B[1;32m    163\u001B[0m \u001B[38;5;28;01melse\u001B[39;00m:\n",
       "\u001B[0;32m--> 164\u001B[0m     \u001B[38;5;28;01mreturn\u001B[39;00m \u001B[43mf\u001B[49m\u001B[43m(\u001B[49m\u001B[38;5;241;43m*\u001B[39;49m\u001B[43margs\u001B[49m\u001B[43m,\u001B[49m\u001B[43m \u001B[49m\u001B[38;5;241;43m*\u001B[39;49m\u001B[38;5;241;43m*\u001B[39;49m\u001B[43mkwargs\u001B[49m\u001B[43m)\u001B[49m\n",
       "\n",
       "File \u001B[0;32m/databricks/spark/python/pyspark/sql/functions.py:3648\u001B[0m, in \u001B[0;36mexpr\u001B[0;34m(str)\u001B[0m\n",
       "\u001B[1;32m   3618\u001B[0m \u001B[38;5;129m@try_remote_functions\u001B[39m\n",
       "\u001B[1;32m   3619\u001B[0m \u001B[38;5;28;01mdef\u001B[39;00m \u001B[38;5;21mexpr\u001B[39m(\u001B[38;5;28mstr\u001B[39m: \u001B[38;5;28mstr\u001B[39m) \u001B[38;5;241m-\u001B[39m\u001B[38;5;241m>\u001B[39m Column:\n",
       "\u001B[1;32m   3620\u001B[0m     \u001B[38;5;124;03m\"\"\"Parses the expression string into the column that it represents\u001B[39;00m\n",
       "\u001B[1;32m   3621\u001B[0m \n",
       "\u001B[1;32m   3622\u001B[0m \u001B[38;5;124;03m    .. versionadded:: 1.5.0\u001B[39;00m\n",
       "\u001B[0;32m   (...)\u001B[0m\n",
       "\u001B[1;32m   3646\u001B[0m \u001B[38;5;124;03m    +-----+------------+\u001B[39;00m\n",
       "\u001B[1;32m   3647\u001B[0m \u001B[38;5;124;03m    \"\"\"\u001B[39;00m\n",
       "\u001B[0;32m-> 3648\u001B[0m     \u001B[38;5;28;01mreturn\u001B[39;00m \u001B[43m_invoke_function\u001B[49m\u001B[43m(\u001B[49m\u001B[38;5;124;43m\"\u001B[39;49m\u001B[38;5;124;43mexpr\u001B[39;49m\u001B[38;5;124;43m\"\u001B[39;49m\u001B[43m,\u001B[49m\u001B[43m \u001B[49m\u001B[38;5;28;43mstr\u001B[39;49m\u001B[43m)\u001B[49m\n",
       "\n",
       "File \u001B[0;32m/databricks/spark/python/pyspark/sql/functions.py:90\u001B[0m, in \u001B[0;36m_invoke_function\u001B[0;34m(name, *args)\u001B[0m\n",
       "\u001B[1;32m     88\u001B[0m \u001B[38;5;28;01massert\u001B[39;00m SparkContext\u001B[38;5;241m.\u001B[39m_active_spark_context \u001B[38;5;129;01mis\u001B[39;00m \u001B[38;5;129;01mnot\u001B[39;00m \u001B[38;5;28;01mNone\u001B[39;00m\n",
       "\u001B[1;32m     89\u001B[0m jf \u001B[38;5;241m=\u001B[39m _get_jvm_function(name, SparkContext\u001B[38;5;241m.\u001B[39m_active_spark_context)\n",
       "\u001B[0;32m---> 90\u001B[0m \u001B[38;5;28;01mreturn\u001B[39;00m Column(\u001B[43mjf\u001B[49m\u001B[43m(\u001B[49m\u001B[38;5;241;43m*\u001B[39;49m\u001B[43margs\u001B[49m\u001B[43m)\u001B[49m)\n",
       "\n",
       "File \u001B[0;32m/databricks/spark/python/lib/py4j-0.10.9.5-src.zip/py4j/java_gateway.py:1321\u001B[0m, in \u001B[0;36mJavaMember.__call__\u001B[0;34m(self, *args)\u001B[0m\n",
       "\u001B[1;32m   1315\u001B[0m command \u001B[38;5;241m=\u001B[39m proto\u001B[38;5;241m.\u001B[39mCALL_COMMAND_NAME \u001B[38;5;241m+\u001B[39m\\\n",
       "\u001B[1;32m   1316\u001B[0m     \u001B[38;5;28mself\u001B[39m\u001B[38;5;241m.\u001B[39mcommand_header \u001B[38;5;241m+\u001B[39m\\\n",
       "\u001B[1;32m   1317\u001B[0m     args_command \u001B[38;5;241m+\u001B[39m\\\n",
       "\u001B[1;32m   1318\u001B[0m     proto\u001B[38;5;241m.\u001B[39mEND_COMMAND_PART\n",
       "\u001B[1;32m   1320\u001B[0m answer \u001B[38;5;241m=\u001B[39m \u001B[38;5;28mself\u001B[39m\u001B[38;5;241m.\u001B[39mgateway_client\u001B[38;5;241m.\u001B[39msend_command(command)\n",
       "\u001B[0;32m-> 1321\u001B[0m return_value \u001B[38;5;241m=\u001B[39m \u001B[43mget_return_value\u001B[49m\u001B[43m(\u001B[49m\n",
       "\u001B[1;32m   1322\u001B[0m \u001B[43m    \u001B[49m\u001B[43manswer\u001B[49m\u001B[43m,\u001B[49m\u001B[43m \u001B[49m\u001B[38;5;28;43mself\u001B[39;49m\u001B[38;5;241;43m.\u001B[39;49m\u001B[43mgateway_client\u001B[49m\u001B[43m,\u001B[49m\u001B[43m \u001B[49m\u001B[38;5;28;43mself\u001B[39;49m\u001B[38;5;241;43m.\u001B[39;49m\u001B[43mtarget_id\u001B[49m\u001B[43m,\u001B[49m\u001B[43m \u001B[49m\u001B[38;5;28;43mself\u001B[39;49m\u001B[38;5;241;43m.\u001B[39;49m\u001B[43mname\u001B[49m\u001B[43m)\u001B[49m\n",
       "\u001B[1;32m   1324\u001B[0m \u001B[38;5;28;01mfor\u001B[39;00m temp_arg \u001B[38;5;129;01min\u001B[39;00m temp_args:\n",
       "\u001B[1;32m   1325\u001B[0m     temp_arg\u001B[38;5;241m.\u001B[39m_detach()\n",
       "\n",
       "File \u001B[0;32m/databricks/spark/python/pyspark/errors/exceptions.py:234\u001B[0m, in \u001B[0;36mcapture_sql_exception.<locals>.deco\u001B[0;34m(*a, **kw)\u001B[0m\n",
       "\u001B[1;32m    230\u001B[0m converted \u001B[38;5;241m=\u001B[39m convert_exception(e\u001B[38;5;241m.\u001B[39mjava_exception)\n",
       "\u001B[1;32m    231\u001B[0m \u001B[38;5;28;01mif\u001B[39;00m \u001B[38;5;129;01mnot\u001B[39;00m \u001B[38;5;28misinstance\u001B[39m(converted, UnknownException):\n",
       "\u001B[1;32m    232\u001B[0m     \u001B[38;5;66;03m# Hide where the exception came from that shows a non-Pythonic\u001B[39;00m\n",
       "\u001B[1;32m    233\u001B[0m     \u001B[38;5;66;03m# JVM exception message.\u001B[39;00m\n",
       "\u001B[0;32m--> 234\u001B[0m     \u001B[38;5;28;01mraise\u001B[39;00m converted \u001B[38;5;28;01mfrom\u001B[39;00m \u001B[38;5;28mNone\u001B[39m\n",
       "\u001B[1;32m    235\u001B[0m \u001B[38;5;28;01melse\u001B[39;00m:\n",
       "\u001B[1;32m    236\u001B[0m     \u001B[38;5;28;01mraise\u001B[39;00m\n",
       "\n",
       "\u001B[0;31mParseException\u001B[0m: \n",
       "[PARSE_SYNTAX_ERROR] Syntax error at or near 'to_timestamp'.(line 1, pos 14)\n",
       "\n",
       "== SQL ==\n",
       "year('Column<'to_timestamp(2010-02-15 10:00:00)'>')\n",
       "--------------^^^\n"
      ]
     },
     "metadata": {
      "application/vnd.databricks.v1+output": {
       "arguments": {},
       "data": "\u001B[0;31m---------------------------------------------------------------------------\u001B[0m\n\u001B[0;31mParseException\u001B[0m                            Traceback (most recent call last)\nFile \u001B[0;32m<command-3010843889224577>:12\u001B[0m\n\u001B[1;32m      9\u001B[0m initial_year_start_date = expr(\"to_date(concat({}, '-01-01'))\".format(initial_year))\n\u001B[1;32m     10\u001B[0m final_year_end_date = expr(\"to_date(concat({}, '-12-31'))\".format(final_year))\n\u001B[0;32m---> 12\u001B[0m # Convert new date strings to timestamps\n\u001B[1;32m     13\u001B[0m initial_year_start_timestamp = expr(\"to_timestamp('{}')\".format(date_format(initial_year_start_date, 'yyyy-MM-dd')))\n\u001B[1;32m     14\u001B[0m final_year_end_timestamp = expr(\"to_timestamp('{}')\".format(date_format(final_year_end_date, 'yyyy-MM-dd')))\n\nFile \u001B[0;32m/databricks/spark/python/pyspark/sql/utils.py:164\u001B[0m, in \u001B[0;36mtry_remote_functions.<locals>.wrapped\u001B[0;34m(*args, **kwargs)\u001B[0m\n\u001B[1;32m    162\u001B[0m     \u001B[38;5;28;01mreturn\u001B[39;00m \u001B[38;5;28mgetattr\u001B[39m(functions, f\u001B[38;5;241m.\u001B[39m\u001B[38;5;18m__name__\u001B[39m)(\u001B[38;5;241m*\u001B[39margs, \u001B[38;5;241m*\u001B[39m\u001B[38;5;241m*\u001B[39mkwargs)\n\u001B[1;32m    163\u001B[0m \u001B[38;5;28;01melse\u001B[39;00m:\n\u001B[0;32m--> 164\u001B[0m     \u001B[38;5;28;01mreturn\u001B[39;00m \u001B[43mf\u001B[49m\u001B[43m(\u001B[49m\u001B[38;5;241;43m*\u001B[39;49m\u001B[43margs\u001B[49m\u001B[43m,\u001B[49m\u001B[43m \u001B[49m\u001B[38;5;241;43m*\u001B[39;49m\u001B[38;5;241;43m*\u001B[39;49m\u001B[43mkwargs\u001B[49m\u001B[43m)\u001B[49m\n\nFile \u001B[0;32m/databricks/spark/python/pyspark/sql/functions.py:3648\u001B[0m, in \u001B[0;36mexpr\u001B[0;34m(str)\u001B[0m\n\u001B[1;32m   3618\u001B[0m \u001B[38;5;129m@try_remote_functions\u001B[39m\n\u001B[1;32m   3619\u001B[0m \u001B[38;5;28;01mdef\u001B[39;00m \u001B[38;5;21mexpr\u001B[39m(\u001B[38;5;28mstr\u001B[39m: \u001B[38;5;28mstr\u001B[39m) \u001B[38;5;241m-\u001B[39m\u001B[38;5;241m>\u001B[39m Column:\n\u001B[1;32m   3620\u001B[0m     \u001B[38;5;124;03m\"\"\"Parses the expression string into the column that it represents\u001B[39;00m\n\u001B[1;32m   3621\u001B[0m \n\u001B[1;32m   3622\u001B[0m \u001B[38;5;124;03m    .. versionadded:: 1.5.0\u001B[39;00m\n\u001B[0;32m   (...)\u001B[0m\n\u001B[1;32m   3646\u001B[0m \u001B[38;5;124;03m    +-----+------------+\u001B[39;00m\n\u001B[1;32m   3647\u001B[0m \u001B[38;5;124;03m    \"\"\"\u001B[39;00m\n\u001B[0;32m-> 3648\u001B[0m     \u001B[38;5;28;01mreturn\u001B[39;00m \u001B[43m_invoke_function\u001B[49m\u001B[43m(\u001B[49m\u001B[38;5;124;43m\"\u001B[39;49m\u001B[38;5;124;43mexpr\u001B[39;49m\u001B[38;5;124;43m\"\u001B[39;49m\u001B[43m,\u001B[49m\u001B[43m \u001B[49m\u001B[38;5;28;43mstr\u001B[39;49m\u001B[43m)\u001B[49m\n\nFile \u001B[0;32m/databricks/spark/python/pyspark/sql/functions.py:90\u001B[0m, in \u001B[0;36m_invoke_function\u001B[0;34m(name, *args)\u001B[0m\n\u001B[1;32m     88\u001B[0m \u001B[38;5;28;01massert\u001B[39;00m SparkContext\u001B[38;5;241m.\u001B[39m_active_spark_context \u001B[38;5;129;01mis\u001B[39;00m \u001B[38;5;129;01mnot\u001B[39;00m \u001B[38;5;28;01mNone\u001B[39;00m\n\u001B[1;32m     89\u001B[0m jf \u001B[38;5;241m=\u001B[39m _get_jvm_function(name, SparkContext\u001B[38;5;241m.\u001B[39m_active_spark_context)\n\u001B[0;32m---> 90\u001B[0m \u001B[38;5;28;01mreturn\u001B[39;00m Column(\u001B[43mjf\u001B[49m\u001B[43m(\u001B[49m\u001B[38;5;241;43m*\u001B[39;49m\u001B[43margs\u001B[49m\u001B[43m)\u001B[49m)\n\nFile \u001B[0;32m/databricks/spark/python/lib/py4j-0.10.9.5-src.zip/py4j/java_gateway.py:1321\u001B[0m, in \u001B[0;36mJavaMember.__call__\u001B[0;34m(self, *args)\u001B[0m\n\u001B[1;32m   1315\u001B[0m command \u001B[38;5;241m=\u001B[39m proto\u001B[38;5;241m.\u001B[39mCALL_COMMAND_NAME \u001B[38;5;241m+\u001B[39m\\\n\u001B[1;32m   1316\u001B[0m     \u001B[38;5;28mself\u001B[39m\u001B[38;5;241m.\u001B[39mcommand_header \u001B[38;5;241m+\u001B[39m\\\n\u001B[1;32m   1317\u001B[0m     args_command \u001B[38;5;241m+\u001B[39m\\\n\u001B[1;32m   1318\u001B[0m     proto\u001B[38;5;241m.\u001B[39mEND_COMMAND_PART\n\u001B[1;32m   1320\u001B[0m answer \u001B[38;5;241m=\u001B[39m \u001B[38;5;28mself\u001B[39m\u001B[38;5;241m.\u001B[39mgateway_client\u001B[38;5;241m.\u001B[39msend_command(command)\n\u001B[0;32m-> 1321\u001B[0m return_value \u001B[38;5;241m=\u001B[39m \u001B[43mget_return_value\u001B[49m\u001B[43m(\u001B[49m\n\u001B[1;32m   1322\u001B[0m \u001B[43m    \u001B[49m\u001B[43manswer\u001B[49m\u001B[43m,\u001B[49m\u001B[43m \u001B[49m\u001B[38;5;28;43mself\u001B[39;49m\u001B[38;5;241;43m.\u001B[39;49m\u001B[43mgateway_client\u001B[49m\u001B[43m,\u001B[49m\u001B[43m \u001B[49m\u001B[38;5;28;43mself\u001B[39;49m\u001B[38;5;241;43m.\u001B[39;49m\u001B[43mtarget_id\u001B[49m\u001B[43m,\u001B[49m\u001B[43m \u001B[49m\u001B[38;5;28;43mself\u001B[39;49m\u001B[38;5;241;43m.\u001B[39;49m\u001B[43mname\u001B[49m\u001B[43m)\u001B[49m\n\u001B[1;32m   1324\u001B[0m \u001B[38;5;28;01mfor\u001B[39;00m temp_arg \u001B[38;5;129;01min\u001B[39;00m temp_args:\n\u001B[1;32m   1325\u001B[0m     temp_arg\u001B[38;5;241m.\u001B[39m_detach()\n\nFile \u001B[0;32m/databricks/spark/python/pyspark/errors/exceptions.py:234\u001B[0m, in \u001B[0;36mcapture_sql_exception.<locals>.deco\u001B[0;34m(*a, **kw)\u001B[0m\n\u001B[1;32m    230\u001B[0m converted \u001B[38;5;241m=\u001B[39m convert_exception(e\u001B[38;5;241m.\u001B[39mjava_exception)\n\u001B[1;32m    231\u001B[0m \u001B[38;5;28;01mif\u001B[39;00m \u001B[38;5;129;01mnot\u001B[39;00m \u001B[38;5;28misinstance\u001B[39m(converted, UnknownException):\n\u001B[1;32m    232\u001B[0m     \u001B[38;5;66;03m# Hide where the exception came from that shows a non-Pythonic\u001B[39;00m\n\u001B[1;32m    233\u001B[0m     \u001B[38;5;66;03m# JVM exception message.\u001B[39;00m\n\u001B[0;32m--> 234\u001B[0m     \u001B[38;5;28;01mraise\u001B[39;00m converted \u001B[38;5;28;01mfrom\u001B[39;00m \u001B[38;5;28mNone\u001B[39m\n\u001B[1;32m    235\u001B[0m \u001B[38;5;28;01melse\u001B[39;00m:\n\u001B[1;32m    236\u001B[0m     \u001B[38;5;28;01mraise\u001B[39;00m\n\n\u001B[0;31mParseException\u001B[0m: \n[PARSE_SYNTAX_ERROR] Syntax error at or near 'to_timestamp'.(line 1, pos 14)\n\n== SQL ==\nyear('Column<'to_timestamp(2010-02-15 10:00:00)'>')\n--------------^^^\n",
       "errorSummary": "<span class='ansi-red-fg'>ParseException</span>: \n[PARSE_SYNTAX_ERROR] Syntax error at or near 'to_timestamp'.(line 1, pos 14)\n\n== SQL ==\nyear('Column<'to_timestamp(2010-02-15 10:00:00)'>')\n--------------^^^\n",
       "errorTraceType": "ansi",
       "metadata": {},
       "type": "ipynbError"
      }
     },
     "output_type": "display_data"
    }
   ],
   "source": [
    "from pyspark.sql.functions import expr, sequence\n",
    "\n",
    "# read initial and final dates from database\n",
    "i_date = spark.read.jdbc(url=jdbcUrl, table=\"(SELECT TOP(1) [DataInicio] FROM [stg].[EXT_TBL_IMPUTACAO_DETALHE] ORDER BY [DataInicio] ASC) AS query\", properties=connectionProperties)\n",
    "f_date = spark.read.jdbc(url=jdbcUrl, table=\"(SELECT TOP(1) [DataFim] FROM [stg].[EXT_TBL_ORCAMENTO] ORDER BY [DataFim] DESC) AS query\", properties=connectionProperties)\n",
    "\n",
    "# extract initial and final dates as timestamps\n",
    "initial_date = expr(\"to_timestamp('{}')\".format(i_date.collect()[0][0]))\n",
    "final_date = expr(\"to_timestamp('{}')\".format(f_date.collect()[0][0]))\n",
    "\n",
    "# generate sequence of timestamps with 1 month interval\n",
    "timestamps_df = spark.range(1).select(sequence(initial_date, final_date, expr(\"interval 1 month\")).alias(\"timestamps\")).selectExpr(\"explode(timestamps) as timestamp\")\n",
    "\n",
    "# extract year, month and quarter from timestamp\n",
    "timestamps_df = timestamps_df.withColumn(\"Ano\", expr(\"year(timestamp)\"))\n",
    "timestamps_df = timestamps_df.withColumn(\"Mes\", expr(\"month(timestamp)\"))\n",
    "timestamps_df = timestamps_df.withColumn(\"Trimestre_Num\", expr(\"quarter(timestamp)\"))\n",
    "\n",
    "# create auxiliary columns\n",
    "timestamps_df = timestamps_df.withColumn(\"Ano_Mes_Num\", expr(\"concat_ws('-', Ano, LPAD(Mes, 2, '0'))\"))\n",
    "timestamps_df = timestamps_df.withColumn(\"Mes_Extenso\", expr(\"CASE Mes WHEN 1 THEN 'Janeiro' WHEN 2 THEN 'Fevereiro' WHEN 3 THEN 'Março' WHEN 4 THEN 'Abril' WHEN 5 THEN 'Maio' WHEN 6 THEN 'Junho' WHEN 7 THEN 'Julho' WHEN 8 THEN 'Agosto' WHEN 9 THEN 'Setembro' WHEN 10 THEN 'Outubro' WHEN 11 THEN 'Novembro' WHEN 12 THEN 'Dezembro' END\"))\n",
    "timestamps_df = timestamps_df.withColumn(\"Mes_Abrev\", expr(\"substring(Mes_Extenso, 1, 3)\"))\n",
    "timestamps_df = timestamps_df.withColumn(\"Mes_Abrev_E_Ano\", expr(\"concat(Mes_Abrev, ' ', Ano)\"))\n",
    "timestamps_df = timestamps_df.withColumn(\"Mes_Extenso_E_Ano\", expr(\"concat(Mes_Extenso, ' ', Ano)\"))\n",
    "timestamps_df = timestamps_df.withColumn(\"Trimestre\", expr(\"concat(Ano, ' Trimestre ', Trimestre_Num)\"))\n",
    "\n",
    "# select only needed columns\n",
    "result_df = timestamps_df.selectExpr(\"concat(Ano, LPAD(Mes, 2, '0')) as ID_Calendario\", \"Mes\", \"Mes_Abrev\", \"Mes_Extenso\", \"Ano\", \"Ano_Mes_Num\", \"Mes_Abrev_E_Ano\", \"Mes_Extenso_E_Ano\", \"Trimestre_Num\", \"Trimestre\")\n",
    "\n",
    "# insert data into database\n",
    "result_df.write.jdbc(url=jdbcUrl, table=\"[dwProdutividade].[DIM_CALENDARIO]\", mode=\"overwrite\", properties=connectionProperties)\n",
    "\n",
    "# for invalid data\n",
    "table = [(-1, 0, '---', 'Não Definido', 0, '---', 'Não Definido', 'Não Definido', 0, 'Não Definido')]\n",
    "df = spark.createDataFrame(table, [\"ID_Calendario\", \"Mes\", \"Mes_Abrev\", \"Mes_Extenso\", \"Ano\", \"Ano_Mes_Num\", \"Mes_Abrev_E_Ano\", \"Mes_Extenso_E_Ano\", \"Trimestre_Num\", \"Trimestre\"])\n",
    "df.show()\n",
    "df.write.jdbc(url=jdbcUrl, table=\"[dwProdutividade].[DIM_CALENDARIO]\", mode=\"append\", properties=connectionProperties)"
   ]
  },
  {
   "cell_type": "markdown",
   "metadata": {
    "application/vnd.databricks.v1+cell": {
     "cellMetadata": {},
     "inputWidgets": {},
     "nuid": "bd261fde-d4e4-4fb6-ae74-f94dbc40f17a",
     "showTitle": false,
     "title": ""
    }
   },
   "source": [
    "### Productivity Classification Dimension"
   ]
  },
  {
   "cell_type": "code",
   "execution_count": 0,
   "metadata": {
    "application/vnd.databricks.v1+cell": {
     "cellMetadata": {
      "byteLimit": 2048000,
      "rowLimit": 10000
     },
     "inputWidgets": {},
     "nuid": "cfdd38bf-6ad4-470f-a26f-34d31e04a4f6",
     "showTitle": false,
     "title": ""
    }
   },
   "outputs": [],
   "source": [
    "from pyspark.sql import SparkSession\n",
    "\n",
    "spark = SparkSession.builder.appName(\"Produtividade\").getOrCreate()\n",
    "\n",
    "# Prepare Data\n",
    "classifications = ((-1, \"Inválido\", \"Inválida\", -1), \\\n",
    "    (0, \"[0%, 100%[\", \"Menos do Previsto\", 5), \\\n",
    "    (1, \"100%\", \"Como Previsto\", 4), \\\n",
    "    (2, \"]100%, 125%]\", \"Até 25% Horas Extra Consumidas\", 3), \\\n",
    "    (3, \"]125%, 150%]\", \"Até 50% Horas Extra Consumidas\", 2), \\\n",
    "    (4, \"]150%, 175%]\", \"Até 75% Horas Extra Consumidas\", 1), \\\n",
    "    (5, \"]175%, +∞]\", \"Mais de 75% Horas Extra Consumidas\", 0) \\\n",
    "  )\n",
    "columns = [\"ID_Classificacao_Produtividade\", \"Intervalo\", \"Descricao\", \"Nota\"]\n",
    "\n",
    "# Create DataFrame\n",
    "df = spark.createDataFrame(data = classifications, schema = columns)\n",
    "df.write.jdbc(url=jdbcUrl, table=\"[dwProdutividade].[DIM_CLASSIFICACAO_PRODUTIVIDADE]\", mode=\"overwrite\", properties=connectionProperties)"
   ]
  },
  {
   "cell_type": "markdown",
   "metadata": {
    "application/vnd.databricks.v1+cell": {
     "cellMetadata": {},
     "inputWidgets": {},
     "nuid": "921721d6-b0c4-4780-a93a-091a995f1ca4",
     "showTitle": false,
     "title": ""
    }
   },
   "source": [
    "### State Dimension"
   ]
  },
  {
   "cell_type": "code",
   "execution_count": 0,
   "metadata": {
    "application/vnd.databricks.v1+cell": {
     "cellMetadata": {
      "byteLimit": 2048000,
      "rowLimit": 10000
     },
     "inputWidgets": {},
     "nuid": "d4a63dea-c06d-4cce-9c2a-07b2fc2ce1cc",
     "showTitle": false,
     "title": ""
    }
   },
   "outputs": [],
   "source": [
    "from pyspark.sql import SparkSession\n",
    "\n",
    "spark = SparkSession.builder.appName(\"Produtividade\").getOrCreate()\n",
    "\n",
    "# Read distinct states from external table\n",
    "states_df = spark.read.jdbc(url=jdbcUrl, table=\"(select distinct [Estado] from [stg].[EXT_TBL_PROJETOS]) AS query\", properties=connectionProperties)\n",
    "\n",
    "# Create data frame with 'Não Definido'\n",
    "df = spark.createDataFrame([(-1, 'Não Definido')], [\"ID_Estado\", \"Estado\"])\n",
    "\n",
    "# Union data frames\n",
    "df = df.union(states_df.selectExpr(\"row_number() over (order by Estado) as ID_Estado\", \"Estado\"))\n",
    "\n",
    "# Write data frame to destination table\n",
    "df.write.jdbc(url=jdbcUrl, table=\"[dwProdutividade].[DIM_ESTADO]\", mode=\"overwrite\", properties=connectionProperties)\n"
   ]
  },
  {
   "cell_type": "markdown",
   "metadata": {
    "application/vnd.databricks.v1+cell": {
     "cellMetadata": {},
     "inputWidgets": {},
     "nuid": "5397bc07-e466-46ec-aa54-0f732a4c8f95",
     "showTitle": false,
     "title": ""
    }
   },
   "source": [
    "### Profile Dimension"
   ]
  },
  {
   "cell_type": "code",
   "execution_count": 0,
   "metadata": {
    "application/vnd.databricks.v1+cell": {
     "cellMetadata": {
      "byteLimit": 2048000,
      "rowLimit": 10000
     },
     "inputWidgets": {},
     "nuid": "cfb60e0e-63b7-4019-bb9d-0b314a8481b7",
     "showTitle": false,
     "title": ""
    }
   },
   "outputs": [],
   "source": [
    "from pyspark.sql import SparkSession\n",
    "from pyspark.sql.functions import substring, col, when, row_number\n",
    "from pyspark.sql.window import Window\n",
    "\n",
    "spark = SparkSession.builder.appName(\"Produtividade\").getOrCreate()\n",
    "\n",
    "profiles_font = spark.read.jdbc(url=jdbcUrl, table=\"(select distinct [Perfil] from [stg].[EXT_TBL_ORCAMENTO]) AS query\", properties=connectionProperties)\n",
    "\n",
    "profiles = profiles_font.select(\"Perfil\").distinct().rdd.flatMap(lambda x: x).collect()\n",
    "\n",
    "sorted_profiles = sorted(profiles, key=lambda x: int(x[0:2]))\n",
    "\n",
    "profiles_df = spark.createDataFrame(sorted_profiles, \"string\").withColumnRenamed(\"value\", \"Nome_Perfil\")\n",
    "profiles_df = profiles_df.withColumn(\"Num_Perfil\", substring(col(\"Nome_Perfil\"), 1, 2).cast(\"int\"))\n",
    "profiles_df = profiles_df.withColumn(\"Posicao_Perfil\", when(profiles_df[\"Num_Perfil\"] < 10, substring(col(\"Nome_Perfil\"), 5, 50)).otherwise(substring(col(\"Nome_Perfil\"), 6, 50)))\n",
    "profiles_df = profiles_df.withColumn(\"ID_Perfil\", (1 + row_number().over(Window.orderBy(\"Nome_Perfil\"))))\n",
    "\n",
    "profiles_df = profiles_df.select(\"ID_Perfil\", \"Nome_Perfil\", \"Num_Perfil\", \"Posicao_Perfil\")\n",
    "\n",
    "profiles_df.write.jdbc(url=jdbcUrl, table=\"[dwProdutividade].[DIM_PERFIL]\", mode=\"overwrite\", properties=connectionProperties)\n",
    "\n",
    "df = spark.createDataFrame([(-1, 'Não definido', 0, 'Não definida')], [\"ID_Perfil\", \"Nome_Perfil\", \"Num_Perfil\", \"Posicao_Perfil\"])\n",
    "df.write.jdbc(url=jdbcUrl, table=\"[dwProdutividade].[DIM_PERFIL]\", mode=\"append\", properties=connectionProperties)"
   ]
  },
  {
   "cell_type": "markdown",
   "metadata": {
    "application/vnd.databricks.v1+cell": {
     "cellMetadata": {},
     "inputWidgets": {},
     "nuid": "56dc283e-b1e0-45e9-9e9e-d0eefc8045df",
     "showTitle": false,
     "title": ""
    }
   },
   "source": [
    "### Employee Dimension"
   ]
  },
  {
   "cell_type": "code",
   "execution_count": 0,
   "metadata": {
    "application/vnd.databricks.v1+cell": {
     "cellMetadata": {
      "byteLimit": 2048000,
      "rowLimit": 10000
     },
     "inputWidgets": {},
     "nuid": "3189d84e-825f-4290-a7cc-8565de2c777a",
     "showTitle": false,
     "title": ""
    }
   },
   "outputs": [],
   "source": [
    "from pyspark.sql.functions import monotonically_increasing_id\n",
    "\n",
    "spark = SparkSession.builder.appName(\"Produtividade\").getOrCreate()\n",
    "\n",
    "employees_font = spark.read.jdbc(url=jdbcUrl, table=\"(select distinct [Username] FROM [stg].[EXT_TBL_IMPUTACAO_DETALHE]) AS query\", properties=connectionProperties).select(\"Username\")\n",
    "employees_font.orderBy('Username')\n",
    "\n",
    "df = spark.createDataFrame([(-1, 'Não Definido')], [\"ID_Funcionario\", \"Nome_Funcionario\"])\n",
    "df.write.jdbc(url=jdbcUrl, table=\"[dwProdutividade].[DIM_FUNCIONARIO]\", mode=\"overwrite\", properties=connectionProperties)\n",
    "\n",
    "df = employees_font.withColumn(\"ID_Funcionario\", monotonically_increasing_id() + 1)\n",
    "df = df.selectExpr(\"ID_Funcionario\", \"Username as Nome_Funcionario\")\n",
    "\n",
    "df.write.jdbc(url=jdbcUrl, table=\"[dwProdutividade].[DIM_FUNCIONARIO]\", mode=\"append\", properties=connectionProperties)\n"
   ]
  },
  {
   "cell_type": "markdown",
   "metadata": {
    "application/vnd.databricks.v1+cell": {
     "cellMetadata": {},
     "inputWidgets": {},
     "nuid": "b15cb925-9c22-44ac-a32e-db9564beedbb",
     "showTitle": false,
     "title": ""
    }
   },
   "source": [
    "### Task Dimension"
   ]
  },
  {
   "cell_type": "code",
   "execution_count": 0,
   "metadata": {
    "application/vnd.databricks.v1+cell": {
     "cellMetadata": {
      "byteLimit": 2048000,
      "rowLimit": 10000
     },
     "inputWidgets": {},
     "nuid": "69d7ea0b-7c27-48b7-a135-c5725ea0eb69",
     "showTitle": false,
     "title": ""
    }
   },
   "outputs": [],
   "source": [
    "from pyspark.sql import SparkSession\n",
    "from pyspark.sql.functions import concat, concat_ws, substring, col, lit, when\n",
    "\n",
    "spark = SparkSession.builder.appName(\"Produtividade\").getOrCreate()\n",
    "\n",
    "tasks = spark.read.jdbc(url=jdbcUrl, table=\"(select [ID], [CodigoProjeto], [Username], [Tarefa], [NHoras] from [stg].[EXT_TBL_HORASPREVISTAS]) AS query\", properties=connectionProperties)\n",
    "\n",
    "tasks = tasks.withColumn(\"employee_number\", substring(col(\"Username\"), 12, 50))\n",
    "\n",
    "project_task_hours = tasks.withColumn(\"Projeto_Funcionario_Horas\", concat_ws(\" \", col(\"CodigoProjeto\"),\n",
    "                                                                                  lit(\"-\"),\n",
    "                                                                                  lit(\"funcionário\"),\n",
    "                                                                                  col(\"employee_number\"),\n",
    "                                                                                  lit(\"-\"),\n",
    "                                                                                  concat(\n",
    "                                                                                      col(\"NHoras\").cast(\"int\"),\n",
    "                                                                                      when(col(\"NHoras\").cast(\"int\") == 1, lit(\" hora\")).otherwise(lit(\" horas\"))\n",
    "                                                                                  )\n",
    "                                                                            )\n",
    "                                      )\n",
    "\n",
    "tarefa_data = project_task_hours.selectExpr(\"ID as ID_Tarefa\", \"Tarefa as Nome_Tarefa\", \n",
    "                                            \"Projeto_Funcionario_Horas\", \"NHoras as Horas_Previstas_Tarefa\")\n",
    "\n",
    "tarefa_data.write.jdbc(url=jdbcUrl, table=\"[dwProdutividade].[DIM_TAREFA]\", mode=\"overwrite\", properties=connectionProperties)\n",
    "\n",
    "df = spark.createDataFrame([(-1, 'Não Definido', 'Não Definido', 0)], \n",
    "                           [\"ID_Tarefa\", \"Nome_Tarefa\", \"Projeto_Funcionario_Horas\", \"Horas_Previstas_Tarefa\"])\n",
    "\n",
    "df.write.jdbc(url=jdbcUrl, table=\"[dwProdutividade].[DIM_TAREFA]\", mode=\"append\", properties=connectionProperties)"
   ]
  },
  {
   "cell_type": "markdown",
   "metadata": {
    "application/vnd.databricks.v1+cell": {
     "cellMetadata": {},
     "inputWidgets": {},
     "nuid": "fd590b8e-7678-478d-a1c0-9d56181ed7e9",
     "showTitle": false,
     "title": ""
    }
   },
   "source": [
    "### Project Dimension"
   ]
  },
  {
   "cell_type": "code",
   "execution_count": 0,
   "metadata": {
    "application/vnd.databricks.v1+cell": {
     "cellMetadata": {
      "byteLimit": 2048000,
      "rowLimit": 10000
     },
     "inputWidgets": {},
     "nuid": "6964dcff-dc40-4750-9f08-1ba66ed01456",
     "showTitle": false,
     "title": ""
    }
   },
   "outputs": [],
   "source": [
    "from pyspark.sql import SparkSession\n",
    "from pyspark.sql.functions import when, sum, lit, coalesce\n",
    "\n",
    "spark = SparkSession.builder.appName(\"Produtividade\").getOrCreate()\n",
    "\n",
    "projects = spark.read.jdbc(url=jdbcUrl, \n",
    "                            table=\"(select P.[CodigoProjeto], [Departamento], [Area], sum(H.[NHoras]) as [HorasPrevistas] \\\n",
    "                                   from [stg].[EXT_TBL_PROJETOS] as P \\\n",
    "                                   join [stg].[EXT_TBL_HORASPREVISTAS] as H on P.[CodigoProjeto] = H.[CodigoProjeto] \\\n",
    "                                   group by P.[CodigoProjeto], [Departamento],[Area]) AS query\", \n",
    "                            properties=connectionProperties)\n",
    "\n",
    "projects = projects.withColumn(\"ID_Projeto\", monotonically_increasing_id()+1) \\\n",
    "             .withColumn(\"Codigo_Projeto\", col(\"CodigoProjeto\")) \\\n",
    "             .withColumn(\"Nome_Projeto\", concat(lit(\"Projeto \"), col(\"CodigoProjeto\"))) \\\n",
    "             .withColumn(\"Departamento\", coalesce(col(\"Departamento\"), lit(\"Não Especificado\"))) \\\n",
    "             .withColumn(\"Area\", coalesce(col(\"Area\"), lit(\"Não Especificada\"))) \\\n",
    "             .withColumn(\"Horas_Previstas_Projeto\", col(\"HorasPrevistas\")) \\\n",
    "             .select(\"ID_Projeto\", \"Codigo_Projeto\", \"Nome_Projeto\", \"Departamento\", \"Area\", \"Horas_Previstas_Projeto\")\n",
    "\n",
    "projects.write.jdbc(url=jdbcUrl, table=\"[dwProdutividade].[DIM_PROJETO]\", mode=\"overwrite\", properties=connectionProperties)\n",
    "\n",
    "df = spark.createDataFrame([(-1, 'Não Especificado', 'Não Especificado', 'Não Especificado', 'Não Especificada', 0)], \n",
    "                           [\"ID_Projeto\", \"Codigo_Projeto\", \"Nome_Projeto\", \"Departamento\", \"Area\", \"Horas_Previstas_Projeto\"])\n",
    "\n",
    "df.write.jdbc(url=jdbcUrl, table=\"[dwProdutividade].[DIM_PROJETO]\", mode=\"append\", properties=connectionProperties)\n"
   ]
  },
  {
   "cell_type": "markdown",
   "metadata": {
    "application/vnd.databricks.v1+cell": {
     "cellMetadata": {},
     "inputWidgets": {},
     "nuid": "3f2ea917-ace3-4087-878a-3a37141c9f06",
     "showTitle": false,
     "title": ""
    }
   },
   "source": [
    "### Task Fact"
   ]
  },
  {
   "cell_type": "code",
   "execution_count": 0,
   "metadata": {
    "application/vnd.databricks.v1+cell": {
     "cellMetadata": {
      "byteLimit": 2048000,
      "rowLimit": 10000
     },
     "inputWidgets": {},
     "nuid": "53f97161-ad92-4f05-8885-d485acf43ade",
     "showTitle": false,
     "title": ""
    }
   },
   "outputs": [
    {
     "output_type": "stream",
     "name": "stdout",
     "output_type": "stream",
     "text": [
      "+---------------+--------------+----+---+-----------+-----------------------+\n|  CodigoProjeto|      Username| Ano|Mes|FK_TarefaID|Horas_Realizadas_Tarefa|\n+---------------+--------------+----+---+-----------+-----------------------+\n|1001Id.2015.144|utilizador.309|2015|  7|        869|                  40.00|\n|1001Id.2015.144|utilizador.591|2015|  7|        870|                  11.00|\n|   ABR.2015.184|utilizador.211|2015| 10|       null|                   5.00|\n|   ABR.2015.184|utilizador.211|2015| 10|          0|                   5.00|\n|   ABR.2015.184|utilizador.211|2015| 11|          0|                  13.00|\n|   ABR.2015.184|utilizador.211|2015| 12|          0|                  48.50|\n|   ABR.2016.016|utilizador.211|2016|  1|          0|                  23.00|\n|   ABR.2016.016|utilizador.211|2016|  2|       null|                   2.00|\n|   ABR.2016.016|utilizador.211|2016|  2|          0|                   8.00|\n|   ABR.2016.016|utilizador.211|2016|  3|          0|                  13.00|\n|   ABR.2016.016|utilizador.211|2016|  4|          0|                  17.00|\n|   ABR.2016.016|utilizador.211|2016|  5|          0|                  25.00|\n|   ABR.2016.016|utilizador.211|2016|  6|          0|                  14.00|\n|   ABR.2016.016|utilizador.211|2016|  7|          0|                   5.00|\n|   ABR.2016.016|utilizador.211|2016|  8|          0|                  10.00|\n|   ABR.2016.016|utilizador.211|2016|  9|          0|                  23.00|\n|   ABR.2016.016|utilizador.211|2016| 10|       null|                   2.00|\n|   ABR.2016.016|utilizador.211|2016| 10|          0|                  15.00|\n|   ABR.2016.016|utilizador.211|2016| 11|       null|                   2.00|\n|   ABR.2016.016|utilizador.211|2016| 11|          0|                  17.00|\n+---------------+--------------+----+---+-----------+-----------------------+\nonly showing top 20 rows\n\n+---------------+--------------+----+---+-----------+-----------------------+-----------------------------+\n|  CodigoProjeto|      Username| Ano|Mes|FK_TarefaID|Horas_Realizadas_Tarefa|Total_Horas_Realizadas_Tarefa|\n+---------------+--------------+----+---+-----------+-----------------------+-----------------------------+\n|1001Id.2015.144|utilizador.591|2015|  7|        870|                  11.00|                        11.00|\n|   ABR.2015.184|utilizador.211|2015| 10|          0|                   5.00|                        66.50|\n|   ABR.2015.184|utilizador.211|2015| 11|          0|                  13.00|                        66.50|\n|   ABR.2015.184|utilizador.211|2015| 12|          0|                  48.50|                        66.50|\n|   ABR.2016.016|utilizador.211|2016|  2|       null|                   2.00|                         null|\n|   ABR.2016.016|utilizador.211|2016| 10|       null|                   2.00|                         null|\n|   ABR.2016.016|utilizador.211|2016| 11|       null|                   2.00|                         null|\n|   ABR.2016.016|utilizador.211|2016| 12|       null|                   2.00|                         null|\n|   ABR.2016.016|utilizador.211|2016|  1|          0|                  23.00|                       186.00|\n|   ABR.2016.016|utilizador.211|2016|  2|          0|                   8.00|                       186.00|\n|   ABR.2016.016|utilizador.211|2016|  3|          0|                  13.00|                       186.00|\n|   ABR.2016.016|utilizador.211|2016|  4|          0|                  17.00|                       186.00|\n|   ABR.2016.016|utilizador.211|2016|  5|          0|                  25.00|                       186.00|\n|   ABR.2016.016|utilizador.211|2016|  6|          0|                  14.00|                       186.00|\n|   ABR.2016.016|utilizador.211|2016|  7|          0|                   5.00|                       186.00|\n|   ABR.2016.016|utilizador.211|2016|  8|          0|                  10.00|                       186.00|\n|   ABR.2016.016|utilizador.211|2016|  9|          0|                  23.00|                       186.00|\n|   ABR.2016.016|utilizador.211|2016| 10|          0|                  15.00|                       186.00|\n|   ABR.2016.016|utilizador.211|2016| 11|          0|                  17.00|                       186.00|\n|   ABR.2015.184|utilizador.211|2015| 10|       null|                   5.00|                         null|\n+---------------+--------------+----+---+-----------+-----------------------+-----------------------------+\nonly showing top 20 rows\n\n+-------------+--------------+----+---+-----------+-----------------------+-----------------------------+---+\n|CodigoProjeto|      Username| Ano|Mes|FK_TarefaID|Horas_Realizadas_Tarefa|Total_Horas_Realizadas_Tarefa| ID|\n+-------------+--------------+----+---+-----------+-----------------------+-----------------------------+---+\n| ABR.2022.189|utilizador.513|2022|  1|      26451|                   5.00|                         5.00|  0|\n| ABR.2022.232|utilizador.519|2022|  7|      27332|                   2.00|                         6.00|  1|\n| ABR.2022.232|utilizador.519|2022|  8|      27332|                   3.00|                         6.00|  2|\n| ABR.2022.232|utilizador.519|2022| 12|      27332|                   1.00|                         6.00|  3|\n| ADS.2019.076|utilizador.277|2019|  1|          0|                  24.00|                      1280.00|  4|\n| ADS.2019.076|utilizador.277|2019|  3|          0|                  48.00|                      1280.00|  5|\n| ADS.2019.076|utilizador.277|2019|  4|          0|                   8.00|                      1280.00|  6|\n| ADS.2019.076|utilizador.277|2019|  7|          0|                  40.00|                      1280.00|  7|\n| ADS.2019.076|utilizador.277|2019| 11|          0|                  16.00|                      1280.00|  8|\n| ADS.2019.076|utilizador.277|2019| 12|          0|                   8.00|                      1280.00|  9|\n| ADS.2019.076|utilizador.335|2019|  1|          0|                  24.00|                      1280.00| 10|\n| ADS.2019.076|utilizador.335|2019|  2|          0|                   8.00|                      1280.00| 11|\n| ADS.2019.076|utilizador.335|2019|  4|          0|                  24.00|                      1280.00| 12|\n| ADS.2019.076|utilizador.335|2019|  5|          0|                   8.00|                      1280.00| 13|\n| ADS.2019.076|utilizador.335|2019|  6|          0|                   8.00|                      1280.00| 14|\n| ADS.2019.076|utilizador.335|2019|  7|          0|                  48.00|                      1280.00| 15|\n| ADS.2019.076|utilizador.335|2019|  8|          0|                  40.00|                      1280.00| 16|\n| ADS.2019.076|utilizador.335|2019| 12|          0|                  24.00|                      1280.00| 17|\n| ADS.2019.076|utilizador.493|2019|  5|          0|                  16.00|                      1280.00| 18|\n| ADS.2019.076|utilizador.493|2019|  6|          0|                   8.00|                      1280.00| 19|\n+-------------+--------------+----+---+-----------+-----------------------+-----------------------------+---+\nonly showing top 20 rows\n\n+---------------+--------------+----+---+-----------+-----------------------+-----------------------------+---+----------+\n|  CodigoProjeto|      Username| Ano|Mes|FK_TarefaID|Horas_Realizadas_Tarefa|Total_Horas_Realizadas_Tarefa| ID|ID_Projeto|\n+---------------+--------------+----+---+-----------+-----------------------+-----------------------------+---+----------+\n|1001Id.2015.144|utilizador.591|2015|  7|        870|                  11.00|                        11.00|  0|         1|\n|   ABR.2015.184|utilizador.211|2015| 10|          0|                   5.00|                        66.50|  1|        -1|\n|   ABR.2015.184|utilizador.211|2015| 11|          0|                  13.00|                        66.50|  2|        -1|\n|   ABR.2015.184|utilizador.211|2015| 12|          0|                  48.50|                        66.50|  3|        -1|\n|   ABR.2016.016|utilizador.211|2016|  2|       null|                   2.00|                         null|  4|        -1|\n|   ABR.2016.016|utilizador.211|2016| 10|       null|                   2.00|                         null|  5|        -1|\n|   ABR.2016.016|utilizador.211|2016| 11|       null|                   2.00|                         null|  6|        -1|\n|   ABR.2016.016|utilizador.211|2016| 12|       null|                   2.00|                         null|  7|        -1|\n|   ABR.2016.016|utilizador.211|2016|  1|          0|                  23.00|                       186.00|  8|        -1|\n|   ABR.2016.016|utilizador.211|2016|  2|          0|                   8.00|                       186.00|  9|        -1|\n|   ABR.2016.016|utilizador.211|2016|  3|          0|                  13.00|                       186.00| 10|        -1|\n|   ABR.2016.016|utilizador.211|2016|  4|          0|                  17.00|                       186.00| 11|        -1|\n|   ABR.2016.016|utilizador.211|2016|  5|          0|                  25.00|                       186.00| 12|        -1|\n|   ABR.2016.016|utilizador.211|2016|  6|          0|                  14.00|                       186.00| 13|        -1|\n|   ABR.2016.016|utilizador.211|2016|  7|          0|                   5.00|                       186.00| 14|        -1|\n|   ABR.2016.016|utilizador.211|2016|  8|          0|                  10.00|                       186.00| 15|        -1|\n|   ABR.2016.016|utilizador.211|2016|  9|          0|                  23.00|                       186.00| 16|        -1|\n|   ABR.2016.016|utilizador.211|2016| 10|          0|                  15.00|                       186.00| 17|        -1|\n|   ABR.2016.016|utilizador.211|2016| 11|          0|                  17.00|                       186.00| 18|        -1|\n|   ABR.2015.184|utilizador.211|2015| 10|       null|                   5.00|                         null| 19|        -1|\n+---------------+--------------+----+---+-----------+-----------------------+-----------------------------+---+----------+\nonly showing top 20 rows\n\n+---------------+--------------+-----------+-----------------------+-----------------------------+---+----------+-------------+\n|  CodigoProjeto|      Username|FK_TarefaID|Horas_Realizadas_Tarefa|Total_Horas_Realizadas_Tarefa| ID|ID_Projeto|ID_Calendario|\n+---------------+--------------+-----------+-----------------------+-----------------------------+---+----------+-------------+\n|1001Id.2015.144|utilizador.591|        870|                  11.00|                        11.00|  0|         1|       201507|\n|   ABR.2015.184|utilizador.211|          0|                   5.00|                        66.50|  1|        -1|       201510|\n|   ABR.2015.184|utilizador.211|          0|                  13.00|                        66.50|  2|        -1|       201511|\n|   ABR.2015.184|utilizador.211|          0|                  48.50|                        66.50|  3|        -1|       201512|\n|   ABR.2016.016|utilizador.211|       null|                   2.00|                         null|  4|        -1|       201602|\n|   ABR.2016.016|utilizador.211|       null|                   2.00|                         null|  5|        -1|       201610|\n|   ABR.2016.016|utilizador.211|       null|                   2.00|                         null|  6|        -1|       201611|\n|   ABR.2016.016|utilizador.211|       null|                   2.00|                         null|  7|        -1|       201612|\n|   ABR.2016.016|utilizador.211|          0|                  23.00|                       186.00|  8|        -1|       201601|\n|   ABR.2016.016|utilizador.211|          0|                   8.00|                       186.00|  9|        -1|       201602|\n|   ABR.2016.016|utilizador.211|          0|                  13.00|                       186.00| 10|        -1|       201603|\n|   ABR.2016.016|utilizador.211|          0|                  17.00|                       186.00| 11|        -1|       201604|\n|   ABR.2016.016|utilizador.211|          0|                  25.00|                       186.00| 12|        -1|       201605|\n|   ABR.2016.016|utilizador.211|          0|                  14.00|                       186.00| 13|        -1|       201606|\n|   ABR.2016.016|utilizador.211|          0|                   5.00|                       186.00| 14|        -1|       201607|\n|   ABR.2016.016|utilizador.211|          0|                  10.00|                       186.00| 15|        -1|       201608|\n|   ABR.2016.016|utilizador.211|          0|                  23.00|                       186.00| 16|        -1|       201609|\n|   ABR.2016.016|utilizador.211|          0|                  15.00|                       186.00| 17|        -1|       201610|\n|   ABR.2016.016|utilizador.211|          0|                  17.00|                       186.00| 18|        -1|       201611|\n|   ABR.2015.184|utilizador.211|       null|                   5.00|                         null| 19|        -1|       201510|\n+---------------+--------------+-----------+-----------------------+-----------------------------+---+----------+-------------+\nonly showing top 20 rows\n\n+---------------+--------------+-----------------------+-----------------------------+---+----------+-------------+--------------------+----------------------+---------+\n|  CodigoProjeto|      Username|Horas_Realizadas_Tarefa|Total_Horas_Realizadas_Tarefa| ID|ID_Projeto|ID_Calendario|         Nome_Tarefa|Horas_Previstas_Tarefa|ID_Tarefa|\n+---------------+--------------+-----------------------+-----------------------------+---+----------+-------------+--------------------+----------------------+---------+\n|1001Id.2015.144|utilizador.591|                  11.00|                        11.00|  0|         1|       201507|Tarefa - Utilizad...|                  8.00|      870|\n|   ABR.2015.184|utilizador.211|                   5.00|                        66.50|  1|        -1|       201510|                null|                  null|       -1|\n|   ABR.2015.184|utilizador.211|                  13.00|                        66.50|  2|        -1|       201511|                null|                  null|       -1|\n|   ABR.2015.184|utilizador.211|                  48.50|                        66.50|  3|        -1|       201512|                null|                  null|       -1|\n|   ABR.2016.016|utilizador.211|                   2.00|                         null|  4|        -1|       201602|                null|                  null|       -1|\n|   ABR.2016.016|utilizador.211|                   2.00|                         null|  5|        -1|       201610|                null|                  null|       -1|\n|   ABR.2016.016|utilizador.211|                   2.00|                         null|  6|        -1|       201611|                null|                  null|       -1|\n|   ABR.2016.016|utilizador.211|                   2.00|                         null|  7|        -1|       201612|                null|                  null|       -1|\n|   ABR.2016.016|utilizador.211|                  23.00|                       186.00|  8|        -1|       201601|                null|                  null|       -1|\n|   ABR.2016.016|utilizador.211|                   8.00|                       186.00|  9|        -1|       201602|                null|                  null|       -1|\n|   ABR.2016.016|utilizador.211|                  13.00|                       186.00| 10|        -1|       201603|                null|                  null|       -1|\n|   ABR.2016.016|utilizador.211|                  17.00|                       186.00| 11|        -1|       201604|                null|                  null|       -1|\n|   ABR.2016.016|utilizador.211|                  25.00|                       186.00| 12|        -1|       201605|                null|                  null|       -1|\n|   ABR.2016.016|utilizador.211|                  14.00|                       186.00| 13|        -1|       201606|                null|                  null|       -1|\n|   ABR.2016.016|utilizador.211|                   5.00|                       186.00| 14|        -1|       201607|                null|                  null|       -1|\n|   ABR.2016.016|utilizador.211|                  10.00|                       186.00| 15|        -1|       201608|                null|                  null|       -1|\n|   ABR.2016.016|utilizador.211|                  23.00|                       186.00| 16|        -1|       201609|                null|                  null|       -1|\n|   ABR.2016.016|utilizador.211|                  15.00|                       186.00| 17|        -1|       201610|                null|                  null|       -1|\n|   ABR.2016.016|utilizador.211|                  17.00|                       186.00| 18|        -1|       201611|                null|                  null|       -1|\n|   ABR.2015.184|utilizador.211|                   5.00|                         null| 19|        -1|       201510|                null|                  null|       -1|\n+---------------+--------------+-----------------------+-----------------------------+---+----------+-------------+--------------------+----------------------+---------+\nonly showing top 20 rows\n\n+---------------+--------------+-----------------------+-----------------------------+---+----------+-------------+--------------------+----------------------+---------+--------------+\n|  CodigoProjeto|      Username|Horas_Realizadas_Tarefa|Total_Horas_Realizadas_Tarefa| ID|ID_Projeto|ID_Calendario|         Nome_Tarefa|Horas_Previstas_Tarefa|ID_Tarefa|ID_Funcionario|\n+---------------+--------------+-----------------------+-----------------------------+---+----------+-------------+--------------------+----------------------+---------+--------------+\n|1001Id.2015.144|utilizador.591|                  11.00|                        11.00|  0|         1|       201507|Tarefa - Utilizad...|                  8.00|      870|           336|\n|   ABR.2015.184|utilizador.211|                   5.00|                        66.50|  1|        -1|       201510|                null|                  null|       -1|             1|\n|   ABR.2015.184|utilizador.211|                  13.00|                        66.50|  2|        -1|       201511|                null|                  null|       -1|             1|\n|   ABR.2015.184|utilizador.211|                  48.50|                        66.50|  3|        -1|       201512|                null|                  null|       -1|             1|\n|   ABR.2016.016|utilizador.211|                   2.00|                         null|  4|        -1|       201602|                null|                  null|       -1|             1|\n|   ABR.2016.016|utilizador.211|                   2.00|                         null|  5|        -1|       201610|                null|                  null|       -1|             1|\n|   ABR.2016.016|utilizador.211|                   2.00|                         null|  6|        -1|       201611|                null|                  null|       -1|             1|\n|   ABR.2016.016|utilizador.211|                   2.00|                         null|  7|        -1|       201612|                null|                  null|       -1|             1|\n|   ABR.2016.016|utilizador.211|                  23.00|                       186.00|  8|        -1|       201601|                null|                  null|       -1|             1|\n|   ABR.2016.016|utilizador.211|                   8.00|                       186.00|  9|        -1|       201602|                null|                  null|       -1|             1|\n|   ABR.2016.016|utilizador.211|                  13.00|                       186.00| 10|        -1|       201603|                null|                  null|       -1|             1|\n|   ABR.2016.016|utilizador.211|                  17.00|                       186.00| 11|        -1|       201604|                null|                  null|       -1|             1|\n|   ABR.2016.016|utilizador.211|                  25.00|                       186.00| 12|        -1|       201605|                null|                  null|       -1|             1|\n|   ABR.2016.016|utilizador.211|                  14.00|                       186.00| 13|        -1|       201606|                null|                  null|       -1|             1|\n|   ABR.2016.016|utilizador.211|                   5.00|                       186.00| 14|        -1|       201607|                null|                  null|       -1|             1|\n|   ABR.2016.016|utilizador.211|                  10.00|                       186.00| 15|        -1|       201608|                null|                  null|       -1|             1|\n|   ABR.2016.016|utilizador.211|                  23.00|                       186.00| 16|        -1|       201609|                null|                  null|       -1|             1|\n|   ABR.2016.016|utilizador.211|                  15.00|                       186.00| 17|        -1|       201610|                null|                  null|       -1|             1|\n|   ABR.2016.016|utilizador.211|                  17.00|                       186.00| 18|        -1|       201611|                null|                  null|       -1|             1|\n|   ABR.2015.184|utilizador.211|                   5.00|                         null| 19|        -1|       201510|                null|                  null|       -1|             1|\n+---------------+--------------+-----------------------+-----------------------------+---+----------+-------------+--------------------+----------------------+---------+--------------+\nonly showing top 20 rows\n\n+---------------+--------------+-----------------------+-----------------------------+---+----------+-------------+--------------------+----------------------+---------+--------------+-------------+------------------+-------------+-----------+-----------+\n|  CodigoProjeto|      Username|Horas_Realizadas_Tarefa|Total_Horas_Realizadas_Tarefa| ID|ID_Projeto|ID_Calendario|         Nome_Tarefa|Horas_Previstas_Tarefa|ID_Tarefa|ID_Funcionario|IDTarefaHoras|CodigoProjetoQuery|UsernameQuery|TarefaQuery|PerfilQuery|\n+---------------+--------------+-----------------------+-----------------------------+---+----------+-------------+--------------------+----------------------+---------+--------------+-------------+------------------+-------------+-----------+-----------+\n|1001Id.2015.144|utilizador.591|                  11.00|                        11.00|  0|         1|       201507|Tarefa - Utilizad...|                  8.00|      870|           336|         null|              null|         null|       null|       null|\n|   ABR.2015.184|utilizador.211|                   5.00|                        66.50|  1|        -1|       201510|                null|                  null|       -1|             1|         null|              null|         null|       null|       null|\n|   ABR.2015.184|utilizador.211|                  13.00|                        66.50|  2|        -1|       201511|                null|                  null|       -1|             1|         null|              null|         null|       null|       null|\n|   ABR.2015.184|utilizador.211|                  48.50|                        66.50|  3|        -1|       201512|                null|                  null|       -1|             1|         null|              null|         null|       null|       null|\n|   ABR.2016.016|utilizador.211|                   2.00|                         null|  4|        -1|       201602|                null|                  null|       -1|             1|         null|              null|         null|       null|       null|\n|   ABR.2016.016|utilizador.211|                   2.00|                         null|  5|        -1|       201610|                null|                  null|       -1|             1|         null|              null|         null|       null|       null|\n|   ABR.2016.016|utilizador.211|                   2.00|                         null|  6|        -1|       201611|                null|                  null|       -1|             1|         null|              null|         null|       null|       null|\n|   ABR.2016.016|utilizador.211|                   2.00|                         null|  7|        -1|       201612|                null|                  null|       -1|             1|         null|              null|         null|       null|       null|\n|   ABR.2016.016|utilizador.211|                  23.00|                       186.00|  8|        -1|       201601|                null|                  null|       -1|             1|         null|              null|         null|       null|       null|\n|   ABR.2016.016|utilizador.211|                   8.00|                       186.00|  9|        -1|       201602|                null|                  null|       -1|             1|         null|              null|         null|       null|       null|\n|   ABR.2016.016|utilizador.211|                  13.00|                       186.00| 10|        -1|       201603|                null|                  null|       -1|             1|         null|              null|         null|       null|       null|\n|   ABR.2016.016|utilizador.211|                  17.00|                       186.00| 11|        -1|       201604|                null|                  null|       -1|             1|         null|              null|         null|       null|       null|\n|   ABR.2016.016|utilizador.211|                  25.00|                       186.00| 12|        -1|       201605|                null|                  null|       -1|             1|         null|              null|         null|       null|       null|\n|   ABR.2016.016|utilizador.211|                  14.00|                       186.00| 13|        -1|       201606|                null|                  null|       -1|             1|         null|              null|         null|       null|       null|\n|   ABR.2016.016|utilizador.211|                   5.00|                       186.00| 14|        -1|       201607|                null|                  null|       -1|             1|         null|              null|         null|       null|       null|\n|   ABR.2016.016|utilizador.211|                  10.00|                       186.00| 15|        -1|       201608|                null|                  null|       -1|             1|         null|              null|         null|       null|       null|\n|   ABR.2016.016|utilizador.211|                  23.00|                       186.00| 16|        -1|       201609|                null|                  null|       -1|             1|         null|              null|         null|       null|       null|\n|   ABR.2016.016|utilizador.211|                  15.00|                       186.00| 17|        -1|       201610|                null|                  null|       -1|             1|         null|              null|         null|       null|       null|\n|   ABR.2016.016|utilizador.211|                  17.00|                       186.00| 18|        -1|       201611|                null|                  null|       -1|             1|         null|              null|         null|       null|       null|\n|   ABR.2015.184|utilizador.211|                   5.00|                         null| 19|        -1|       201510|                null|                  null|       -1|             1|         null|              null|         null|       null|       null|\n+---------------+--------------+-----------------------+-----------------------------+---+----------+-------------+--------------------+----------------------+---------+--------------+-------------+------------------+-------------+-----------+-----------+\nonly showing top 20 rows\n\n+---------------+--------------+-----------------------+-----------------------------+---+----------+-------------+----------------------+---------+--------------+-------------+------+\n|  CodigoProjeto|      Username|Horas_Realizadas_Tarefa|Total_Horas_Realizadas_Tarefa| ID|ID_Projeto|ID_Calendario|Horas_Previstas_Tarefa|ID_Tarefa|ID_Funcionario|IDTarefaHoras|Perfil|\n+---------------+--------------+-----------------------+-----------------------------+---+----------+-------------+----------------------+---------+--------------+-------------+------+\n|1001Id.2015.144|utilizador.591|                  11.00|                        11.00|  0|         1|       201507|                  8.00|      870|           336|         null|  null|\n|   ABR.2015.184|utilizador.211|                   5.00|                        66.50|  1|        -1|       201510|                  null|       -1|             1|         null|  null|\n|   ABR.2015.184|utilizador.211|                  13.00|                        66.50|  2|        -1|       201511|                  null|       -1|             1|         null|  null|\n|   ABR.2015.184|utilizador.211|                  48.50|                        66.50|  3|        -1|       201512|                  null|       -1|             1|         null|  null|\n|   ABR.2016.016|utilizador.211|                   2.00|                         null|  4|        -1|       201602|                  null|       -1|             1|         null|  null|\n|   ABR.2016.016|utilizador.211|                   2.00|                         null|  5|        -1|       201610|                  null|       -1|             1|         null|  null|\n|   ABR.2016.016|utilizador.211|                   2.00|                         null|  6|        -1|       201611|                  null|       -1|             1|         null|  null|\n|   ABR.2016.016|utilizador.211|                   2.00|                         null|  7|        -1|       201612|                  null|       -1|             1|         null|  null|\n|   ABR.2016.016|utilizador.211|                  23.00|                       186.00|  8|        -1|       201601|                  null|       -1|             1|         null|  null|\n|   ABR.2016.016|utilizador.211|                   8.00|                       186.00|  9|        -1|       201602|                  null|       -1|             1|         null|  null|\n|   ABR.2016.016|utilizador.211|                  13.00|                       186.00| 10|        -1|       201603|                  null|       -1|             1|         null|  null|\n|   ABR.2016.016|utilizador.211|                  17.00|                       186.00| 11|        -1|       201604|                  null|       -1|             1|         null|  null|\n|   ABR.2016.016|utilizador.211|                  25.00|                       186.00| 12|        -1|       201605|                  null|       -1|             1|         null|  null|\n|   ABR.2016.016|utilizador.211|                  14.00|                       186.00| 13|        -1|       201606|                  null|       -1|             1|         null|  null|\n|   ABR.2016.016|utilizador.211|                   5.00|                       186.00| 14|        -1|       201607|                  null|       -1|             1|         null|  null|\n|   ABR.2016.016|utilizador.211|                  10.00|                       186.00| 15|        -1|       201608|                  null|       -1|             1|         null|  null|\n|   ABR.2016.016|utilizador.211|                  23.00|                       186.00| 16|        -1|       201609|                  null|       -1|             1|         null|  null|\n|   ABR.2016.016|utilizador.211|                  15.00|                       186.00| 17|        -1|       201610|                  null|       -1|             1|         null|  null|\n|   ABR.2016.016|utilizador.211|                  17.00|                       186.00| 18|        -1|       201611|                  null|       -1|             1|         null|  null|\n|   ABR.2015.184|utilizador.211|                   5.00|                         null| 19|        -1|       201510|                  null|       -1|             1|         null|  null|\n+---------------+--------------+-----------------------+-----------------------------+---+----------+-------------+----------------------+---------+--------------+-------------+------+\nonly showing top 20 rows\n\n+---------------+--------------+-----------------------+-----------------------------+---+----------+-------------+----------------------+---------+--------------+-------------+------+-------------+-----------+\n|  CodigoProjeto|      Username|Horas_Realizadas_Tarefa|Total_Horas_Realizadas_Tarefa| ID|ID_Projeto|ID_Calendario|Horas_Previstas_Tarefa|ID_Tarefa|ID_Funcionario|IDTarefaHoras|Perfil|IDPerfilQuery|Nome_Perfil|\n+---------------+--------------+-----------------------+-----------------------------+---+----------+-------------+----------------------+---------+--------------+-------------+------+-------------+-----------+\n|1001Id.2015.144|utilizador.591|                  11.00|                        11.00|  0|         1|       201507|                  8.00|      870|           336|         null|  null|         null|       null|\n|   ABR.2015.184|utilizador.211|                   5.00|                        66.50|  1|        -1|       201510|                  null|       -1|             1|         null|  null|         null|       null|\n|   ABR.2015.184|utilizador.211|                  13.00|                        66.50|  2|        -1|       201511|                  null|       -1|             1|         null|  null|         null|       null|\n|   ABR.2015.184|utilizador.211|                  48.50|                        66.50|  3|        -1|       201512|                  null|       -1|             1|         null|  null|         null|       null|\n|   ABR.2016.016|utilizador.211|                   2.00|                         null|  4|        -1|       201602|                  null|       -1|             1|         null|  null|         null|       null|\n|   ABR.2016.016|utilizador.211|                   2.00|                         null|  5|        -1|       201610|                  null|       -1|             1|         null|  null|         null|       null|\n|   ABR.2016.016|utilizador.211|                   2.00|                         null|  6|        -1|       201611|                  null|       -1|             1|         null|  null|         null|       null|\n|   ABR.2016.016|utilizador.211|                   2.00|                         null|  7|        -1|       201612|                  null|       -1|             1|         null|  null|         null|       null|\n|   ABR.2016.016|utilizador.211|                  23.00|                       186.00|  8|        -1|       201601|                  null|       -1|             1|         null|  null|         null|       null|\n|   ABR.2016.016|utilizador.211|                   8.00|                       186.00|  9|        -1|       201602|                  null|       -1|             1|         null|  null|         null|       null|\n|   ABR.2016.016|utilizador.211|                  13.00|                       186.00| 10|        -1|       201603|                  null|       -1|             1|         null|  null|         null|       null|\n|   ABR.2016.016|utilizador.211|                  17.00|                       186.00| 11|        -1|       201604|                  null|       -1|             1|         null|  null|         null|       null|\n|   ABR.2016.016|utilizador.211|                  25.00|                       186.00| 12|        -1|       201605|                  null|       -1|             1|         null|  null|         null|       null|\n|   ABR.2016.016|utilizador.211|                  14.00|                       186.00| 13|        -1|       201606|                  null|       -1|             1|         null|  null|         null|       null|\n|   ABR.2016.016|utilizador.211|                   5.00|                       186.00| 14|        -1|       201607|                  null|       -1|             1|         null|  null|         null|       null|\n|   ABR.2016.016|utilizador.211|                  10.00|                       186.00| 15|        -1|       201608|                  null|       -1|             1|         null|  null|         null|       null|\n|   ABR.2016.016|utilizador.211|                  23.00|                       186.00| 16|        -1|       201609|                  null|       -1|             1|         null|  null|         null|       null|\n|   ABR.2016.016|utilizador.211|                  15.00|                       186.00| 17|        -1|       201610|                  null|       -1|             1|         null|  null|         null|       null|\n|   ABR.2016.016|utilizador.211|                  17.00|                       186.00| 18|        -1|       201611|                  null|       -1|             1|         null|  null|         null|       null|\n|   ABR.2015.184|utilizador.211|                   5.00|                         null| 19|        -1|       201510|                  null|       -1|             1|         null|  null|         null|       null|\n+---------------+--------------+-----------------------+-----------------------------+---+----------+-------------+----------------------+---------+--------------+-------------+------+-------------+-----------+\nonly showing top 20 rows\n\n+-----------------------+-----------------------------+---+----------+-------------+----------------------+---------+--------------+-------------+---------+\n|Horas_Realizadas_Tarefa|Total_Horas_Realizadas_Tarefa| ID|ID_Projeto|ID_Calendario|Horas_Previstas_Tarefa|ID_Tarefa|ID_Funcionario|IDTarefaHoras|ID_Perfil|\n+-----------------------+-----------------------------+---+----------+-------------+----------------------+---------+--------------+-------------+---------+\n|                  11.00|                        11.00|  0|         1|       201507|                  8.00|      870|           336|         null|       -1|\n|                   5.00|                        66.50|  1|        -1|       201510|                  null|       -1|             1|         null|       -1|\n|                  13.00|                        66.50|  2|        -1|       201511|                  null|       -1|             1|         null|       -1|\n|                  48.50|                        66.50|  3|        -1|       201512|                  null|       -1|             1|         null|       -1|\n|                   2.00|                         null|  4|        -1|       201602|                  null|       -1|             1|         null|       -1|\n|                   2.00|                         null|  5|        -1|       201610|                  null|       -1|             1|         null|       -1|\n|                   2.00|                         null|  6|        -1|       201611|                  null|       -1|             1|         null|       -1|\n|                   2.00|                         null|  7|        -1|       201612|                  null|       -1|             1|         null|       -1|\n|                  23.00|                       186.00|  8|        -1|       201601|                  null|       -1|             1|         null|       -1|\n|                   8.00|                       186.00|  9|        -1|       201602|                  null|       -1|             1|         null|       -1|\n|                  13.00|                       186.00| 10|        -1|       201603|                  null|       -1|             1|         null|       -1|\n|                  17.00|                       186.00| 11|        -1|       201604|                  null|       -1|             1|         null|       -1|\n|                  25.00|                       186.00| 12|        -1|       201605|                  null|       -1|             1|         null|       -1|\n|                  14.00|                       186.00| 13|        -1|       201606|                  null|       -1|             1|         null|       -1|\n|                   5.00|                       186.00| 14|        -1|       201607|                  null|       -1|             1|         null|       -1|\n|                  10.00|                       186.00| 15|        -1|       201608|                  null|       -1|             1|         null|       -1|\n|                  23.00|                       186.00| 16|        -1|       201609|                  null|       -1|             1|         null|       -1|\n|                  15.00|                       186.00| 17|        -1|       201610|                  null|       -1|             1|         null|       -1|\n|                  17.00|                       186.00| 18|        -1|       201611|                  null|       -1|             1|         null|       -1|\n|                   5.00|                         null| 19|        -1|       201510|                  null|       -1|             1|         null|       -1|\n+-----------------------+-----------------------------+---+----------+-------------+----------------------+---------+--------------+-------------+---------+\nonly showing top 20 rows\n\n+-----------------------+-----------------------------+---+----------+-------------+---------+--------------+-------------+---------+-------------------------------------+\n|Horas_Realizadas_Tarefa|Total_Horas_Realizadas_Tarefa| ID|ID_Projeto|ID_Calendario|ID_Tarefa|ID_Funcionario|IDTarefaHoras|ID_Perfil|ID_Classificacao_Produtividade_Tarefa|\n+-----------------------+-----------------------------+---+----------+-------------+---------+--------------+-------------+---------+-------------------------------------+\n|                  11.00|                        11.00|  0|         1|       201507|      870|           336|         null|       -1|                                    3|\n|                   5.00|                        66.50|  1|        -1|       201510|       -1|             1|         null|       -1|                                   -1|\n|                  13.00|                        66.50|  2|        -1|       201511|       -1|             1|         null|       -1|                                   -1|\n|                  48.50|                        66.50|  3|        -1|       201512|       -1|             1|         null|       -1|                                   -1|\n|                   2.00|                         null|  4|        -1|       201602|       -1|             1|         null|       -1|                                   -1|\n|                   2.00|                         null|  5|        -1|       201610|       -1|             1|         null|       -1|                                   -1|\n|                   2.00|                         null|  6|        -1|       201611|       -1|             1|         null|       -1|                                   -1|\n|                   2.00|                         null|  7|        -1|       201612|       -1|             1|         null|       -1|                                   -1|\n|                  23.00|                       186.00|  8|        -1|       201601|       -1|             1|         null|       -1|                                   -1|\n|                   8.00|                       186.00|  9|        -1|       201602|       -1|             1|         null|       -1|                                   -1|\n|                  13.00|                       186.00| 10|        -1|       201603|       -1|             1|         null|       -1|                                   -1|\n|                  17.00|                       186.00| 11|        -1|       201604|       -1|             1|         null|       -1|                                   -1|\n|                  25.00|                       186.00| 12|        -1|       201605|       -1|             1|         null|       -1|                                   -1|\n|                  14.00|                       186.00| 13|        -1|       201606|       -1|             1|         null|       -1|                                   -1|\n|                   5.00|                       186.00| 14|        -1|       201607|       -1|             1|         null|       -1|                                   -1|\n|                  10.00|                       186.00| 15|        -1|       201608|       -1|             1|         null|       -1|                                   -1|\n|                  23.00|                       186.00| 16|        -1|       201609|       -1|             1|         null|       -1|                                   -1|\n|                  15.00|                       186.00| 17|        -1|       201610|       -1|             1|         null|       -1|                                   -1|\n|                  17.00|                       186.00| 18|        -1|       201611|       -1|             1|         null|       -1|                                   -1|\n|                   5.00|                         null| 19|        -1|       201510|       -1|             1|         null|       -1|                                   -1|\n+-----------------------+-----------------------------+---+----------+-------------+---------+--------------+-------------+---------+-------------------------------------+\nonly showing top 20 rows\n\n+---+-----------------------+----------+-------------+---------+--------------+---------+-------------------------------------+\n| ID|Horas_Realizadas_Tarefa|ID_Projeto|ID_Calendario|ID_Tarefa|ID_Funcionario|ID_Perfil|ID_Classificacao_Produtividade_Tarefa|\n+---+-----------------------+----------+-------------+---------+--------------+---------+-------------------------------------+\n|  0|                  11.00|         1|       201507|      870|           336|       -1|                                    3|\n|  1|                   5.00|        -1|       201510|       -1|             1|       -1|                                   -1|\n|  2|                  13.00|        -1|       201511|       -1|             1|       -1|                                   -1|\n|  3|                  48.50|        -1|       201512|       -1|             1|       -1|                                   -1|\n|  4|                   2.00|        -1|       201602|       -1|             1|       -1|                                   -1|\n|  5|                   2.00|        -1|       201610|       -1|             1|       -1|                                   -1|\n|  6|                   2.00|        -1|       201611|       -1|             1|       -1|                                   -1|\n|  7|                   2.00|        -1|       201612|       -1|             1|       -1|                                   -1|\n|  8|                  23.00|        -1|       201601|       -1|             1|       -1|                                   -1|\n|  9|                   8.00|        -1|       201602|       -1|             1|       -1|                                   -1|\n| 10|                  13.00|        -1|       201603|       -1|             1|       -1|                                   -1|\n| 11|                  17.00|        -1|       201604|       -1|             1|       -1|                                   -1|\n| 12|                  25.00|        -1|       201605|       -1|             1|       -1|                                   -1|\n| 13|                  14.00|        -1|       201606|       -1|             1|       -1|                                   -1|\n| 14|                   5.00|        -1|       201607|       -1|             1|       -1|                                   -1|\n| 15|                  10.00|        -1|       201608|       -1|             1|       -1|                                   -1|\n| 16|                  23.00|        -1|       201609|       -1|             1|       -1|                                   -1|\n| 17|                  15.00|        -1|       201610|       -1|             1|       -1|                                   -1|\n| 18|                  17.00|        -1|       201611|       -1|             1|       -1|                                   -1|\n| 19|                   5.00|        -1|       201510|       -1|             1|       -1|                                   -1|\n+---+-----------------------+----------+-------------+---------+--------------+---------+-------------------------------------+\nonly showing top 20 rows\n\n"
     ]
    }
   ],
   "source": [
    "'''\n",
    "  [0%, 100%[ - 5        - classification id 0\n",
    "  100% - 4              - classification id 1\n",
    "  ]100%, 125%] - 3      - classification id 2\n",
    "  ]125%, 150%] - 2      - classification id 3\n",
    "  ]150%, 175%] - 1      - classification id 4\n",
    "  ]175%, +∞] - 0        - classification id 5\n",
    "  '''\n",
    "from pyspark.sql import SparkSession\n",
    "from pyspark.sql.functions import col, when, sum, lit, coalesce, monotonically_increasing_id\n",
    "\n",
    "spark = SparkSession.builder.appName(\"Produtividade\").getOrCreate()\n",
    "\n",
    "# Read data from database\n",
    "imputations = spark.read.jdbc(url=jdbcUrl, table=\"(select [CodigoProjeto], [Username], [Ano], [Mes], [FK_TarefaID], sum([NHoras]) as Horas_Realizadas_Tarefa from [stg].[EXT_TBL_IMPUTACAO_DETALHE] group by [CodigoProjeto], [Username], [Ano], [Mes], [FK_TarefaID]) AS query\", properties=connectionProperties)\n",
    "\n",
    "imputations.show()\n",
    "\n",
    "get_hours_performed = \"(select [CodigoProjeto] as CodigoHoras, [FK_TarefaID] as TarefaIDHoras, sum([NHoras]) as Total_Horas_Realizadas_Tarefa_Query from [stg].[EXT_TBL_IMPUTACAO_DETALHE] group by [CodigoProjeto], [FK_TarefaID]) AS QUERY\"\n",
    "\n",
    "hours_performed = spark.read.jdbc(url=jdbcUrl, table=get_hours_performed, properties=connectionProperties)\n",
    "imputations = imputations.join(hours_performed, (imputations.CodigoProjeto == hours_performed.CodigoHoras) & (imputations.FK_TarefaID == hours_performed.TarefaIDHoras), \"left\")\n",
    "imputations = imputations.withColumn(\"Total_Horas_Realizadas_Tarefa\", col(\"Total_Horas_Realizadas_Tarefa_Query\")).drop(\"CodigoHoras\", \"UsernameHoras\", \"TarefaIDHoras\", \"Total_Horas_Realizadas_Tarefa_Query\")\n",
    "\n",
    "imputations.show()\n",
    "\n",
    "# Generate ID column\n",
    "imputations = imputations.withColumn(\"ID\", monotonically_increasing_id())\n",
    "\n",
    "imputations.show()\n",
    "\n",
    "# Calculate Project ID\n",
    "project = spark.read.jdbc(url=jdbcUrl, table=\"(select [ID_Projeto] as IDProjetoID, [Codigo_Projeto] from [dwProdutividade].[DIM_PROJETO]) AS query\", properties=connectionProperties)\n",
    "imputations = imputations.join(project, imputations.CodigoProjeto == project.Codigo_Projeto, \"left\")\n",
    "imputations = imputations.withColumn(\"ID_Projeto\", when(col(\"IDProjetoID\").isNull(), -1).otherwise(col(\"IDProjetoID\"))).drop(\"IDProjetoID\", \"Codigo_Projeto\")\n",
    "\n",
    "imputations.show()\n",
    "\n",
    "# Calculate Calendar ID\n",
    "calendar = spark.read.jdbc(url=jdbcUrl, table=\"(select [ID_Calendario] as IDCalendarioQuery, [Ano] as AnoQuery, [Mes] as MesQuery from [dwProdutividade].[DIM_CALENDARIO]) AS query\", properties=connectionProperties)\n",
    "imputations = imputations.join(calendar, (imputations.Ano == calendar.AnoQuery) & (imputations.Mes == calendar.MesQuery), \"left\")\n",
    "imputations = imputations.withColumn(\"ID_Calendario\", when(col(\"IDCalendarioQuery\").isNull(), -1).otherwise(col(\"IDCalendarioQuery\"))).drop(\"Ano\", \"Mes\", \"IDCalendarioQuery\", \"AnoQuery\", \"MesQuery\")\n",
    "\n",
    "imputations.show()\n",
    "\n",
    "# Calculate Task ID\n",
    "task = spark.read.jdbc(url=jdbcUrl, table=\"(select [ID_Tarefa] as IDTarefaQuery, [Nome_Tarefa], [Horas_Previstas_Tarefa] from [dwProdutividade].[DIM_TAREFA]) AS query\", properties=connectionProperties)\n",
    "imputations = imputations.join(task, imputations.FK_TarefaID == task.IDTarefaQuery, \"left\")\n",
    "imputations = imputations.withColumn(\"ID_Tarefa\", when(col(\"IDTarefaQuery\").isNull(), -1).otherwise(col(\"IDTarefaQuery\"))).drop(\"FK_TarefaID\", \"IDTarefaQuery\")\n",
    "\n",
    "imputations.show()\n",
    "\n",
    "# Calculate Employee ID\n",
    "employee = spark.read.jdbc(url=jdbcUrl, table=\"(select [ID_Funcionario] as IDFuncionarioQuery, [Nome_Funcionario] from [dwProdutividade].[DIM_FUNCIONARIO]) AS query\", properties=connectionProperties)\n",
    "imputations = imputations.join(employee, imputations.Username == employee.Nome_Funcionario, \"left\")\n",
    "imputations = imputations.withColumn(\"ID_Funcionario\", when(col(\"IDFuncionarioQuery\").isNull(), -1).otherwise(col(\"IDFuncionarioQuery\"))).drop(\"IDFuncionarioQuery\", \"Nome_Funcionario\")\n",
    "\n",
    "imputations.show()\n",
    "\n",
    "# Calculate Profile ID\n",
    "profile_info = spark.read.jdbc(url=jdbcUrl, table=\"(select H.[ID] as IDTarefaHoras, H.[CodigoProjeto] as CodigoProjetoQuery, [Username] as UsernameQuery, H.[Tarefa] as TarefaQuery, [Perfil] as PerfilQuery from [stg].[EXT_TBL_HORASPREVISTAS] as H join [stg].[EXT_TBL_ORCAMENTO] as O on H.[OrcamentoID] = O.[ID]) AS query\", properties=connectionProperties)\n",
    "\n",
    "imputations = imputations.join(profile_info, (imputations.ID_Tarefa == profile_info.IDTarefaHoras) & (imputations.CodigoProjeto == profile_info.CodigoProjetoQuery) & (imputations.Nome_Tarefa == profile_info.TarefaQuery) & (imputations.Username == profile_info.UsernameQuery), \"left\")\n",
    "\n",
    "imputations.show()\n",
    "imputations = imputations.withColumn(\"Perfil\", col(\"PerfilQuery\")).drop(\"CodigoProjetoQuery\", \"Nome_Tarefa\", \"TarefaQuery\", \"UsernameQuery\", \"PerfilQuery\", \"IDCalendarioQuery\")\n",
    "imputations.show()\n",
    "\n",
    "profile = spark.read.jdbc(url=jdbcUrl, table=\"(select [ID_Perfil] as IDPerfilQuery, [Nome_Perfil] from [dwProdutividade].[DIM_PERFIL]) AS query\", properties=connectionProperties)\n",
    "imputations = imputations.join(profile, (imputations.Perfil == profile.Nome_Perfil), \"left\")\n",
    "imputations.show()\n",
    "imputations = imputations.withColumn(\"ID_Perfil\", when(col(\"IDPerfilQuery\").isNull(), -1).otherwise(col(\"IDPerfilQuery\"))).drop(\"IDPerfilQuery\", \"Perfil\", \"Nome_Perfil\", \"CodigoProjeto\", \"Username\",)\n",
    "imputations.show()\n",
    "\n",
    "# Calculate Classification ID\n",
    "imputations = imputations.withColumn(\"ID_Classificacao_Produtividade_Tarefa\", when(col(\"Total_Horas_Realizadas_Tarefa\").isNull() , -1)\n",
    "                                                                      .when(col(\"Horas_Previstas_Tarefa\").isNull() , -1)\n",
    "                                                                      .when(col(\"Horas_Previstas_Tarefa\") == 0 , -1)\n",
    "                                                                      .when(col(\"Total_Horas_Realizadas_Tarefa\") / col(\"Horas_Previstas_Tarefa\") < 1, 0)\n",
    "                                                                      .when(col(\"Total_Horas_Realizadas_Tarefa\") / col(\"Horas_Previstas_Tarefa\") == 1, 1)\n",
    "                                                                      .when(col(\"Total_Horas_Realizadas_Tarefa\") / col(\"Horas_Previstas_Tarefa\") <= 1.25, 2)\n",
    "                                                                      .when(col(\"Total_Horas_Realizadas_Tarefa\") / col(\"Horas_Previstas_Tarefa\") <= 1.50, 3)\n",
    "                                                                      .when(col(\"Total_Horas_Realizadas_Tarefa\") / col(\"Horas_Previstas_Tarefa\") <= 1.75, 4)\n",
    "                                                                      .otherwise(5)).drop(\"Horas_Previstas_Tarefa\")\n",
    "\n",
    "imputations.show()\n",
    "\n",
    "# Write final output to database\n",
    "# Before writing it is necessary to rearrange the columns\n",
    "imputations = imputations.select(col(\"ID\"), col(\"Horas_Realizadas_Tarefa\"), col(\"ID_Projeto\"), col(\"ID_Calendario\"), col(\"ID_Tarefa\"), col(\"ID_Funcionario\"), col(\"ID_Perfil\"), col(\"ID_Classificacao_Produtividade_Tarefa\"))\n",
    "imputations.show()\n",
    "\n",
    "imputations.write.jdbc(url=jdbcUrl, table=\"[dwProdutividade].[FACTO_TAREFA]\", mode=\"overwrite\", properties=connectionProperties)"
   ]
  },
  {
   "cell_type": "markdown",
   "metadata": {
    "application/vnd.databricks.v1+cell": {
     "cellMetadata": {},
     "inputWidgets": {},
     "nuid": "575a492b-a23f-4851-974d-3fe05584da38",
     "showTitle": false,
     "title": ""
    }
   },
   "source": [
    "### Project Fact"
   ]
  },
  {
   "cell_type": "code",
   "execution_count": 0,
   "metadata": {
    "application/vnd.databricks.v1+cell": {
     "cellMetadata": {
      "byteLimit": 2048000,
      "rowLimit": 10000
     },
     "inputWidgets": {},
     "nuid": "7b8f06c7-68aa-4035-84ee-408798e98db7",
     "showTitle": false,
     "title": ""
    }
   },
   "outputs": [
    {
     "output_type": "stream",
     "name": "stdout",
     "output_type": "stream",
     "text": [
      "+---------------+----+---+------------------------+---------------+------------------------------------+\n|  CodigoProjeto| Ano|Mes|Horas_Realizadas_Projeto|    CodigoHoras|Total_Horas_Realizadas_Projeto_Query|\n+---------------+----+---+------------------------+---------------+------------------------------------+\n|1001Id.2015.144|2015|  7|                   51.00|1001Id.2015.144|                               51.00|\n|   ABR.2017.003|2017|  1|                   27.00|   ABR.2017.003|                              191.00|\n|   ABR.2017.003|2017|  2|                   15.00|   ABR.2017.003|                              191.00|\n|   ABR.2017.003|2017|  3|                   14.00|   ABR.2017.003|                              191.00|\n|   ABR.2017.003|2017|  4|                   13.00|   ABR.2017.003|                              191.00|\n|   ABR.2017.003|2017|  5|                   39.00|   ABR.2017.003|                              191.00|\n|   ABR.2016.016|2016|  1|                   23.00|   ABR.2016.016|                              194.00|\n|   ABR.2016.016|2016|  2|                   10.00|   ABR.2016.016|                              194.00|\n|   ABR.2016.016|2016|  3|                   13.00|   ABR.2016.016|                              194.00|\n|   ABR.2016.016|2016|  4|                   17.00|   ABR.2016.016|                              194.00|\n|   ABR.2016.016|2016|  5|                   25.00|   ABR.2016.016|                              194.00|\n|   ABR.2016.016|2016|  6|                   14.00|   ABR.2016.016|                              194.00|\n|   ABR.2016.016|2016|  7|                    5.00|   ABR.2016.016|                              194.00|\n|   ABR.2016.016|2016|  8|                   10.00|   ABR.2016.016|                              194.00|\n|   ABR.2016.016|2016|  9|                   23.00|   ABR.2016.016|                              194.00|\n|   ABR.2016.016|2016| 10|                   17.00|   ABR.2016.016|                              194.00|\n|   ABR.2016.016|2016| 11|                   19.00|   ABR.2016.016|                              194.00|\n|   ABR.2016.016|2016| 12|                   18.00|   ABR.2016.016|                              194.00|\n|   ABR.2015.184|2015| 10|                   10.00|   ABR.2015.184|                               71.50|\n|   ABR.2015.184|2015| 11|                   13.00|   ABR.2015.184|                               71.50|\n+---------------+----+---+------------------------+---------------+------------------------------------+\nonly showing top 20 rows\n\n+---------------+----+---+------------------------+------------------------------+\n|  CodigoProjeto| Ano|Mes|Horas_Realizadas_Projeto|Total_Horas_Realizadas_Projeto|\n+---------------+----+---+------------------------+------------------------------+\n|1001Id.2015.144|2015|  7|                   51.00|                         51.00|\n|   ABR.2017.003|2017|  1|                   27.00|                        191.00|\n|   ABR.2017.003|2017|  2|                   15.00|                        191.00|\n|   ABR.2017.003|2017|  3|                   14.00|                        191.00|\n|   ABR.2017.003|2017|  4|                   13.00|                        191.00|\n|   ABR.2017.003|2017|  5|                   39.00|                        191.00|\n|   ABR.2016.016|2016|  1|                   23.00|                        194.00|\n|   ABR.2016.016|2016|  2|                   10.00|                        194.00|\n|   ABR.2016.016|2016|  3|                   13.00|                        194.00|\n|   ABR.2016.016|2016|  4|                   17.00|                        194.00|\n|   ABR.2016.016|2016|  5|                   25.00|                        194.00|\n|   ABR.2016.016|2016|  6|                   14.00|                        194.00|\n|   ABR.2016.016|2016|  7|                    5.00|                        194.00|\n|   ABR.2016.016|2016|  8|                   10.00|                        194.00|\n|   ABR.2016.016|2016|  9|                   23.00|                        194.00|\n|   ABR.2016.016|2016| 10|                   17.00|                        194.00|\n|   ABR.2016.016|2016| 11|                   19.00|                        194.00|\n|   ABR.2016.016|2016| 12|                   18.00|                        194.00|\n|   ABR.2015.184|2015| 10|                   10.00|                         71.50|\n|   ABR.2015.184|2015| 11|                   13.00|                         71.50|\n+---------------+----+---+------------------------+------------------------------+\nonly showing top 20 rows\n\n+--------------+----+---+------------------------+------------------------------+---+\n| CodigoProjeto| Ano|Mes|Horas_Realizadas_Projeto|Total_Horas_Realizadas_Projeto| ID|\n+--------------+----+---+------------------------+------------------------------+---+\n|  ADS.2020.024|2020|  1|                  144.00|                       1872.00|  0|\n|  ADS.2020.024|2020|  2|                  152.00|                       1872.00|  1|\n|  ADS.2020.024|2020|  3|                  176.00|                       1872.00|  2|\n|  ADS.2020.024|2020|  4|                  168.00|                       1872.00|  3|\n|  ADS.2020.024|2020|  5|                  160.00|                       1872.00|  4|\n|  ADS.2020.024|2020|  6|                  128.00|                       1872.00|  5|\n|  ADS.2020.024|2020|  7|                  184.00|                       1872.00|  6|\n|  ADS.2020.024|2020|  8|                  128.00|                       1872.00|  7|\n|  ADS.2020.024|2020|  9|                  176.00|                       1872.00|  8|\n|  ADS.2020.024|2020| 10|                  168.00|                       1872.00|  9|\n|  ADS.2020.024|2020| 11|                  160.00|                       1872.00| 10|\n|  ADS.2020.024|2020| 12|                  128.00|                       1872.00| 11|\n|ARMIS.2012.005|2012|  1|                  883.00|                       5037.00| 12|\n|ARMIS.2012.005|2012|  2|                  292.00|                       5037.00| 13|\n|ARMIS.2012.005|2012|  3|                  496.00|                       5037.00| 14|\n|ARMIS.2012.005|2012|  4|                  344.00|                       5037.00| 15|\n|ARMIS.2012.005|2012|  5|                  634.00|                       5037.00| 16|\n|ARMIS.2012.005|2012|  6|                  308.00|                       5037.00| 17|\n|ARMIS.2012.005|2012|  7|                  248.00|                       5037.00| 18|\n|ARMIS.2012.005|2012|  8|                  256.00|                       5037.00| 19|\n+--------------+----+---+------------------------+------------------------------+---+\nonly showing top 20 rows\n\n+---------------+----+---+------------------------+------------------------------+---+--------------+----------+--------------+\n|  CodigoProjeto| Ano|Mes|Horas_Realizadas_Projeto|Total_Horas_Realizadas_Projeto| ID|CodigoProjecto|DataAvanco|Avanco_Projeto|\n+---------------+----+---+------------------------+------------------------------+---+--------------+----------+--------------+\n|1001Id.2015.144|2015|  7|                   51.00|                         51.00|  0|          null|      null|          null|\n|   ABR.2017.003|2017|  1|                   27.00|                        191.00|  1|          null|      null|          null|\n|   ABR.2017.003|2017|  2|                   15.00|                        191.00|  2|          null|      null|          null|\n|   ABR.2017.003|2017|  3|                   14.00|                        191.00|  3|          null|      null|          null|\n|   ABR.2017.003|2017|  4|                   13.00|                        191.00|  4|          null|      null|          null|\n|   ABR.2017.003|2017|  5|                   39.00|                        191.00|  5|          null|      null|          null|\n|   ABR.2017.003|2017|  6|                   22.00|                        191.00|  6|          null|      null|          null|\n|   ABR.2017.003|2017|  7|                   16.00|                        191.00|  7|          null|      null|          null|\n|   ABR.2017.003|2017|  8|                    7.00|                        191.00|  8|          null|      null|          null|\n|   ABR.2017.003|2017|  9|                   16.00|                        191.00|  9|          null|      null|          null|\n|   ABR.2017.003|2017| 10|                   22.00|                        191.00| 10|          null|      null|          null|\n|   ABR.2018.191|2018|  9|                    8.00|                         16.00| 11|          null|      null|          null|\n|   ABR.2018.191|2018| 12|                    8.00|                         16.00| 12|          null|      null|          null|\n|   ABR.2018.265|2018|  1|                  838.00|                       8659.40| 13|          null|      null|          null|\n|   ABR.2018.265|2018|  2|                  807.00|                       8659.40| 14|          null|      null|          null|\n|   ABR.2018.265|2018|  3|                  926.00|                       8659.40| 15|          null|      null|          null|\n|   ABR.2018.265|2018|  4|                  759.00|                       8659.40| 16|          null|      null|          null|\n|   ABR.2018.265|2018|  5|                  978.40|                       8659.40| 17|          null|      null|          null|\n|   ABR.2018.265|2018|  6|                  901.40|                       8659.40| 18|          null|      null|          null|\n|   ABR.2018.265|2018|  7|                  881.40|                       8659.40| 19|          null|      null|          null|\n|   ABR.2018.265|2018|  8|                  720.20|                       8659.40| 20|          null|      null|          null|\n|   ABR.2018.265|2018|  9|                  460.00|                       8659.40| 21|          null|      null|          null|\n|   ABR.2018.265|2018| 10|                  380.00|                       8659.40| 22|          null|      null|          null|\n|   ABR.2018.265|2018| 11|                  384.00|                       8659.40| 23|          null|      null|          null|\n|   ABR.2018.190|2018| 10|                    4.00|                         44.00| 24|          null|      null|          null|\n|   ABR.2018.190|2018| 12|                   40.00|                         44.00| 25|          null|      null|          null|\n|   ABR.2018.047|2018|  3|                   96.00|                       1044.00| 26|          null|      null|          null|\n|   ABR.2018.047|2018|  4|                   96.00|                       1044.00| 27|          null|      null|          null|\n|   ABR.2018.047|2018|  5|                  128.00|                       1044.00| 28|          null|      null|          null|\n|   ABR.2018.047|2018|  6|                  168.00|                       1044.00| 29|          null|      null|          null|\n|   ABR.2018.047|2018|  7|                  176.00|                       1044.00| 30|          null|      null|          null|\n|   ABR.2018.047|2018|  8|                   40.00|                       1044.00| 31|          null|      null|          null|\n|   ABR.2018.047|2018|  9|                   92.00|                       1044.00| 32|          null|      null|          null|\n|   ABR.2018.047|2018| 10|                  104.00|                       1044.00| 33|          null|      null|          null|\n|   ABR.2018.047|2018| 11|                   80.00|                       1044.00| 34|          null|      null|          null|\n|   ABR.2018.047|2018| 12|                   64.00|                       1044.00| 35|          null|      null|          null|\n|   ABR.2016.016|2016|  1|                   23.00|                        194.00| 36|          null|      null|          null|\n|   ABR.2016.016|2016|  2|                   10.00|                        194.00| 37|          null|      null|          null|\n|   ABR.2016.016|2016|  3|                   13.00|                        194.00| 38|          null|      null|          null|\n|   ABR.2016.016|2016|  4|                   17.00|                        194.00| 39|          null|      null|          null|\n|   ABR.2016.016|2016|  5|                   25.00|                        194.00| 40|          null|      null|          null|\n|   ABR.2016.016|2016|  6|                   14.00|                        194.00| 41|          null|      null|          null|\n|   ABR.2016.016|2016|  7|                    5.00|                        194.00| 42|          null|      null|          null|\n|   ABR.2016.016|2016|  8|                   10.00|                        194.00| 43|          null|      null|          null|\n|   ABR.2016.016|2016|  9|                   23.00|                        194.00| 44|          null|      null|          null|\n|   ABR.2016.016|2016| 10|                   17.00|                        194.00| 45|          null|      null|          null|\n|   ABR.2016.016|2016| 11|                   19.00|                        194.00| 46|          null|      null|          null|\n|   ABR.2016.016|2016| 12|                   18.00|                        194.00| 47|          null|      null|          null|\n|   ABR.2015.184|2015| 10|                   10.00|                         71.50| 48|          null|      null|          null|\n|   ABR.2015.184|2015| 11|                   13.00|                         71.50| 49|          null|      null|          null|\n+---------------+----+---+------------------------+------------------------------+---+--------------+----------+--------------+\nonly showing top 50 rows\n\n"
     ]
    },
    {
     "output_type": "stream",
     "name": "stderr",
     "output_type": "stream",
     "text": [
      "/databricks/spark/python/pyspark/sql/pandas/utils.py:124: UserWarning: The conversion of DecimalType columns is inefficient and may take a long time. Column names: [Horas_Realizadas_Projeto, Total_Horas_Realizadas_Projeto, Avanco_Projeto] If those columns are not necessary, you may consider dropping them or converting to primitive types before the conversion.\n  warnings.warn(\n"
     ]
    },
    {
     "output_type": "stream",
     "name": "stdout",
     "output_type": "stream",
     "text": [
      "+--------------+----+---+------------------------+------------------------------+---+--------------+\n| CodigoProjeto| Ano|Mes|Horas_Realizadas_Projeto|Total_Horas_Realizadas_Projeto| ID|Avanco_Projeto|\n+--------------+----+---+------------------------+------------------------------+---+--------------+\n|  ADS.2020.024|2020|  1|                  144.00|                       1872.00|  0|          8.00|\n|  ADS.2020.024|2020|  2|                  152.00|                       1872.00|  1|         16.44|\n|  ADS.2020.024|2020|  3|                  176.00|                       1872.00|  2|         26.22|\n|  ADS.2020.024|2020|  4|                  168.00|                       1872.00|  3|         35.55|\n|  ADS.2020.024|2020|  5|                  160.00|                       1872.00|  4|         44.44|\n|  ADS.2020.024|2020|  6|                  128.00|                       1872.00|  5|         51.55|\n|  ADS.2020.024|2020|  7|                  184.00|                       1872.00|  6|         61.78|\n|  ADS.2020.024|2020|  8|                  128.00|                       1872.00|  7|         68.89|\n|  ADS.2020.024|2020|  9|                  176.00|                       1872.00|  8|         78.67|\n|  ADS.2020.024|2020| 10|                  168.00|                       1872.00|  9|         88.00|\n|  ADS.2020.024|2020| 11|                  160.00|                       1872.00| 10|         96.88|\n|  ADS.2020.024|2020| 12|                  128.00|                       1872.00| 11|        100.00|\n|ARMIS.2012.005|2012|  1|                  883.00|                       5037.00| 12|        100.00|\n|ARMIS.2012.005|2012|  2|                  292.00|                       5037.00| 13|        100.00|\n|ARMIS.2012.005|2012|  3|                  496.00|                       5037.00| 14|        100.00|\n|ARMIS.2012.005|2012|  4|                  344.00|                       5037.00| 15|        100.00|\n|ARMIS.2012.005|2012|  5|                  634.00|                       5037.00| 16|        100.00|\n|ARMIS.2012.005|2012|  6|                  308.00|                       5037.00| 17|        100.00|\n|ARMIS.2012.005|2012|  7|                  248.00|                       5037.00| 18|        100.00|\n|ARMIS.2012.005|2012|  8|                  256.00|                       5037.00| 19|        100.00|\n+--------------+----+---+------------------------+------------------------------+---+--------------+\nonly showing top 20 rows\n\n+--------------+----+---+------------------------+------------------------------+---+--------------+----------+------------------+\n| CodigoProjeto| Ano|Mes|Horas_Realizadas_Projeto|Total_Horas_Realizadas_Projeto| ID|Avanco_Projeto|    Estado|CodigoProjetoQuery|\n+--------------+----+---+------------------------+------------------------------+---+--------------+----------+------------------+\n|  ADS.2020.024|2020|  1|                  144.00|                       1872.00|  0|          8.00|Finalizado|      ADS.2020.024|\n|  ADS.2020.024|2020|  2|                  152.00|                       1872.00|  1|         16.44|Finalizado|      ADS.2020.024|\n|  ADS.2020.024|2020|  3|                  176.00|                       1872.00|  2|         26.22|Finalizado|      ADS.2020.024|\n|  ADS.2020.024|2020|  4|                  168.00|                       1872.00|  3|         35.55|Finalizado|      ADS.2020.024|\n|  ADS.2020.024|2020|  5|                  160.00|                       1872.00|  4|         44.44|Finalizado|      ADS.2020.024|\n|  ADS.2020.024|2020|  6|                  128.00|                       1872.00|  5|         51.55|Finalizado|      ADS.2020.024|\n|  ADS.2020.024|2020|  7|                  184.00|                       1872.00|  6|         61.78|Finalizado|      ADS.2020.024|\n|  ADS.2020.024|2020|  8|                  128.00|                       1872.00|  7|         68.89|Finalizado|      ADS.2020.024|\n|  ADS.2020.024|2020|  9|                  176.00|                       1872.00|  8|         78.67|Finalizado|      ADS.2020.024|\n|  ADS.2020.024|2020| 10|                  168.00|                       1872.00|  9|         88.00|Finalizado|      ADS.2020.024|\n|  ADS.2020.024|2020| 11|                  160.00|                       1872.00| 10|         96.88|Finalizado|      ADS.2020.024|\n|  ADS.2020.024|2020| 12|                  128.00|                       1872.00| 11|        100.00|Finalizado|      ADS.2020.024|\n|ARMIS.2012.005|2012|  1|                  883.00|                       5037.00| 12|        100.00|   Fechado|    ARMIS.2012.005|\n|ARMIS.2012.005|2012|  2|                  292.00|                       5037.00| 13|        100.00|   Fechado|    ARMIS.2012.005|\n|ARMIS.2012.005|2012|  3|                  496.00|                       5037.00| 14|        100.00|   Fechado|    ARMIS.2012.005|\n|ARMIS.2012.005|2012|  4|                  344.00|                       5037.00| 15|        100.00|   Fechado|    ARMIS.2012.005|\n|ARMIS.2012.005|2012|  5|                  634.00|                       5037.00| 16|        100.00|   Fechado|    ARMIS.2012.005|\n|ARMIS.2012.005|2012|  6|                  308.00|                       5037.00| 17|        100.00|   Fechado|    ARMIS.2012.005|\n|ARMIS.2012.005|2012|  7|                  248.00|                       5037.00| 18|        100.00|   Fechado|    ARMIS.2012.005|\n|ARMIS.2012.005|2012|  8|                  256.00|                       5037.00| 19|        100.00|   Fechado|    ARMIS.2012.005|\n+--------------+----+---+------------------------+------------------------------+---+--------------+----------+------------------+\nonly showing top 20 rows\n\n+--------------+----+---+------------------------+------------------------------+---+--------------+----------+------------------+-------------+-----------+\n| CodigoProjeto| Ano|Mes|Horas_Realizadas_Projeto|Total_Horas_Realizadas_Projeto| ID|Avanco_Projeto|    Estado|CodigoProjetoQuery|IDEstadoQuery|EstadoQuery|\n+--------------+----+---+------------------------+------------------------------+---+--------------+----------+------------------+-------------+-----------+\n|  ADS.2020.024|2020|  1|                  144.00|                       1872.00|  0|          8.00|Finalizado|      ADS.2020.024|            4| Finalizado|\n|  ADS.2020.024|2020|  2|                  152.00|                       1872.00|  1|         16.44|Finalizado|      ADS.2020.024|            4| Finalizado|\n|  ADS.2020.024|2020|  3|                  176.00|                       1872.00|  2|         26.22|Finalizado|      ADS.2020.024|            4| Finalizado|\n|  ADS.2020.024|2020|  4|                  168.00|                       1872.00|  3|         35.55|Finalizado|      ADS.2020.024|            4| Finalizado|\n|  ADS.2020.024|2020|  5|                  160.00|                       1872.00|  4|         44.44|Finalizado|      ADS.2020.024|            4| Finalizado|\n|  ADS.2020.024|2020|  6|                  128.00|                       1872.00|  5|         51.55|Finalizado|      ADS.2020.024|            4| Finalizado|\n|  ADS.2020.024|2020|  7|                  184.00|                       1872.00|  6|         61.78|Finalizado|      ADS.2020.024|            4| Finalizado|\n|  ADS.2020.024|2020|  8|                  128.00|                       1872.00|  7|         68.89|Finalizado|      ADS.2020.024|            4| Finalizado|\n|  ADS.2020.024|2020|  9|                  176.00|                       1872.00|  8|         78.67|Finalizado|      ADS.2020.024|            4| Finalizado|\n|  ADS.2020.024|2020| 10|                  168.00|                       1872.00|  9|         88.00|Finalizado|      ADS.2020.024|            4| Finalizado|\n|  ADS.2020.024|2020| 11|                  160.00|                       1872.00| 10|         96.88|Finalizado|      ADS.2020.024|            4| Finalizado|\n|  ADS.2020.024|2020| 12|                  128.00|                       1872.00| 11|        100.00|Finalizado|      ADS.2020.024|            4| Finalizado|\n|ARMIS.2012.005|2012|  1|                  883.00|                       5037.00| 12|        100.00|   Fechado|    ARMIS.2012.005|            3|    Fechado|\n|ARMIS.2012.005|2012|  2|                  292.00|                       5037.00| 13|        100.00|   Fechado|    ARMIS.2012.005|            3|    Fechado|\n|ARMIS.2012.005|2012|  3|                  496.00|                       5037.00| 14|        100.00|   Fechado|    ARMIS.2012.005|            3|    Fechado|\n|ARMIS.2012.005|2012|  4|                  344.00|                       5037.00| 15|        100.00|   Fechado|    ARMIS.2012.005|            3|    Fechado|\n|ARMIS.2012.005|2012|  5|                  634.00|                       5037.00| 16|        100.00|   Fechado|    ARMIS.2012.005|            3|    Fechado|\n|ARMIS.2012.005|2012|  6|                  308.00|                       5037.00| 17|        100.00|   Fechado|    ARMIS.2012.005|            3|    Fechado|\n|ARMIS.2012.005|2012|  7|                  248.00|                       5037.00| 18|        100.00|   Fechado|    ARMIS.2012.005|            3|    Fechado|\n|ARMIS.2012.005|2012|  8|                  256.00|                       5037.00| 19|        100.00|   Fechado|    ARMIS.2012.005|            3|    Fechado|\n+--------------+----+---+------------------------+------------------------------+---+--------------+----------+------------------+-------------+-----------+\nonly showing top 20 rows\n\n+--------------+----+---+------------------------+------------------------------+---+--------------+---------+\n| CodigoProjeto| Ano|Mes|Horas_Realizadas_Projeto|Total_Horas_Realizadas_Projeto| ID|Avanco_Projeto|ID_Estado|\n+--------------+----+---+------------------------+------------------------------+---+--------------+---------+\n|  ADS.2020.024|2020|  1|                  144.00|                       1872.00|  0|          8.00|        4|\n|  ADS.2020.024|2020|  2|                  152.00|                       1872.00|  1|         16.44|        4|\n|  ADS.2020.024|2020|  3|                  176.00|                       1872.00|  2|         26.22|        4|\n|  ADS.2020.024|2020|  4|                  168.00|                       1872.00|  3|         35.55|        4|\n|  ADS.2020.024|2020|  5|                  160.00|                       1872.00|  4|         44.44|        4|\n|  ADS.2020.024|2020|  6|                  128.00|                       1872.00|  5|         51.55|        4|\n|  ADS.2020.024|2020|  7|                  184.00|                       1872.00|  6|         61.78|        4|\n|  ADS.2020.024|2020|  8|                  128.00|                       1872.00|  7|         68.89|        4|\n|  ADS.2020.024|2020|  9|                  176.00|                       1872.00|  8|         78.67|        4|\n|  ADS.2020.024|2020| 10|                  168.00|                       1872.00|  9|         88.00|        4|\n|  ADS.2020.024|2020| 11|                  160.00|                       1872.00| 10|         96.88|        4|\n|  ADS.2020.024|2020| 12|                  128.00|                       1872.00| 11|        100.00|        4|\n|ARMIS.2012.005|2012|  1|                  883.00|                       5037.00| 12|        100.00|        3|\n|ARMIS.2012.005|2012|  2|                  292.00|                       5037.00| 13|        100.00|        3|\n|ARMIS.2012.005|2012|  3|                  496.00|                       5037.00| 14|        100.00|        3|\n|ARMIS.2012.005|2012|  4|                  344.00|                       5037.00| 15|        100.00|        3|\n|ARMIS.2012.005|2012|  5|                  634.00|                       5037.00| 16|        100.00|        3|\n|ARMIS.2012.005|2012|  6|                  308.00|                       5037.00| 17|        100.00|        3|\n|ARMIS.2012.005|2012|  7|                  248.00|                       5037.00| 18|        100.00|        3|\n|ARMIS.2012.005|2012|  8|                  256.00|                       5037.00| 19|        100.00|        3|\n+--------------+----+---+------------------------+------------------------------+---+--------------+---------+\nonly showing top 20 rows\n\n+--------------+----+---+------------------------+------------------------------+---+--------------+---------+-----------+--------------+-----------------------+\n| CodigoProjeto| Ano|Mes|Horas_Realizadas_Projeto|Total_Horas_Realizadas_Projeto| ID|Avanco_Projeto|ID_Estado|IDProjetoID|Codigo_Projeto|Horas_Previstas_Projeto|\n+--------------+----+---+------------------------+------------------------------+---+--------------+---------+-----------+--------------+-----------------------+\n|  ADS.2020.024|2020|  1|                  144.00|                       1872.00|  0|          8.00|        4|        107|  ADS.2020.024|                1872.00|\n|  ADS.2020.024|2020|  2|                  152.00|                       1872.00|  1|         16.44|        4|        107|  ADS.2020.024|                1872.00|\n|  ADS.2020.024|2020|  3|                  176.00|                       1872.00|  2|         26.22|        4|        107|  ADS.2020.024|                1872.00|\n|  ADS.2020.024|2020|  4|                  168.00|                       1872.00|  3|         35.55|        4|        107|  ADS.2020.024|                1872.00|\n|  ADS.2020.024|2020|  5|                  160.00|                       1872.00|  4|         44.44|        4|        107|  ADS.2020.024|                1872.00|\n|  ADS.2020.024|2020|  6|                  128.00|                       1872.00|  5|         51.55|        4|        107|  ADS.2020.024|                1872.00|\n|  ADS.2020.024|2020|  7|                  184.00|                       1872.00|  6|         61.78|        4|        107|  ADS.2020.024|                1872.00|\n|  ADS.2020.024|2020|  8|                  128.00|                       1872.00|  7|         68.89|        4|        107|  ADS.2020.024|                1872.00|\n|  ADS.2020.024|2020|  9|                  176.00|                       1872.00|  8|         78.67|        4|        107|  ADS.2020.024|                1872.00|\n|  ADS.2020.024|2020| 10|                  168.00|                       1872.00|  9|         88.00|        4|        107|  ADS.2020.024|                1872.00|\n|  ADS.2020.024|2020| 11|                  160.00|                       1872.00| 10|         96.88|        4|        107|  ADS.2020.024|                1872.00|\n|  ADS.2020.024|2020| 12|                  128.00|                       1872.00| 11|        100.00|        4|        107|  ADS.2020.024|                1872.00|\n|ARMIS.2012.005|2012|  1|                  883.00|                       5037.00| 12|        100.00|        3|       null|          null|                   null|\n|ARMIS.2012.005|2012|  2|                  292.00|                       5037.00| 13|        100.00|        3|       null|          null|                   null|\n|ARMIS.2012.005|2012|  3|                  496.00|                       5037.00| 14|        100.00|        3|       null|          null|                   null|\n|ARMIS.2012.005|2012|  4|                  344.00|                       5037.00| 15|        100.00|        3|       null|          null|                   null|\n|ARMIS.2012.005|2012|  5|                  634.00|                       5037.00| 16|        100.00|        3|       null|          null|                   null|\n|ARMIS.2012.005|2012|  6|                  308.00|                       5037.00| 17|        100.00|        3|       null|          null|                   null|\n|ARMIS.2012.005|2012|  7|                  248.00|                       5037.00| 18|        100.00|        3|       null|          null|                   null|\n|ARMIS.2012.005|2012|  8|                  256.00|                       5037.00| 19|        100.00|        3|       null|          null|                   null|\n+--------------+----+---+------------------------+------------------------------+---+--------------+---------+-----------+--------------+-----------------------+\nonly showing top 20 rows\n\n+--------------+----+---+------------------------+------------------------------+---+--------------+---------+-----------------------+----------+\n| CodigoProjeto| Ano|Mes|Horas_Realizadas_Projeto|Total_Horas_Realizadas_Projeto| ID|Avanco_Projeto|ID_Estado|Horas_Previstas_Projeto|ID_Projeto|\n+--------------+----+---+------------------------+------------------------------+---+--------------+---------+-----------------------+----------+\n|  ADS.2020.024|2020|  1|                  144.00|                       1872.00|  0|          8.00|        4|                1872.00|       107|\n|  ADS.2020.024|2020|  2|                  152.00|                       1872.00|  1|         16.44|        4|                1872.00|       107|\n|  ADS.2020.024|2020|  3|                  176.00|                       1872.00|  2|         26.22|        4|                1872.00|       107|\n|  ADS.2020.024|2020|  4|                  168.00|                       1872.00|  3|         35.55|        4|                1872.00|       107|\n|  ADS.2020.024|2020|  5|                  160.00|                       1872.00|  4|         44.44|        4|                1872.00|       107|\n|  ADS.2020.024|2020|  6|                  128.00|                       1872.00|  5|         51.55|        4|                1872.00|       107|\n|  ADS.2020.024|2020|  7|                  184.00|                       1872.00|  6|         61.78|        4|                1872.00|       107|\n|  ADS.2020.024|2020|  8|                  128.00|                       1872.00|  7|         68.89|        4|                1872.00|       107|\n|  ADS.2020.024|2020|  9|                  176.00|                       1872.00|  8|         78.67|        4|                1872.00|       107|\n|  ADS.2020.024|2020| 10|                  168.00|                       1872.00|  9|         88.00|        4|                1872.00|       107|\n|  ADS.2020.024|2020| 11|                  160.00|                       1872.00| 10|         96.88|        4|                1872.00|       107|\n|  ADS.2020.024|2020| 12|                  128.00|                       1872.00| 11|        100.00|        4|                1872.00|       107|\n|ARMIS.2012.005|2012|  1|                  883.00|                       5037.00| 12|        100.00|        3|                   null|        -1|\n|ARMIS.2012.005|2012|  2|                  292.00|                       5037.00| 13|        100.00|        3|                   null|        -1|\n|ARMIS.2012.005|2012|  3|                  496.00|                       5037.00| 14|        100.00|        3|                   null|        -1|\n|ARMIS.2012.005|2012|  4|                  344.00|                       5037.00| 15|        100.00|        3|                   null|        -1|\n|ARMIS.2012.005|2012|  5|                  634.00|                       5037.00| 16|        100.00|        3|                   null|        -1|\n|ARMIS.2012.005|2012|  6|                  308.00|                       5037.00| 17|        100.00|        3|                   null|        -1|\n|ARMIS.2012.005|2012|  7|                  248.00|                       5037.00| 18|        100.00|        3|                   null|        -1|\n|ARMIS.2012.005|2012|  8|                  256.00|                       5037.00| 19|        100.00|        3|                   null|        -1|\n+--------------+----+---+------------------------+------------------------------+---+--------------+---------+-----------------------+----------+\nonly showing top 20 rows\n\n+--------------+----+---+------------------------+------------------------------+---+--------------+---------+-----------------------+----------+-----------------+--------+--------+\n| CodigoProjeto| Ano|Mes|Horas_Realizadas_Projeto|Total_Horas_Realizadas_Projeto| ID|Avanco_Projeto|ID_Estado|Horas_Previstas_Projeto|ID_Projeto|IDCalendarioQuery|AnoQuery|MesQuery|\n+--------------+----+---+------------------------+------------------------------+---+--------------+---------+-----------------------+----------+-----------------+--------+--------+\n|  ADS.2020.024|2020|  1|                  144.00|                       1872.00|  0|          8.00|        4|                1872.00|       107|           202001|    2020|       1|\n|  ADS.2020.024|2020|  2|                  152.00|                       1872.00|  1|         16.44|        4|                1872.00|       107|           202002|    2020|       2|\n|  ADS.2020.024|2020|  3|                  176.00|                       1872.00|  2|         26.22|        4|                1872.00|       107|           202003|    2020|       3|\n|  ADS.2020.024|2020|  4|                  168.00|                       1872.00|  3|         35.55|        4|                1872.00|       107|           202004|    2020|       4|\n|  ADS.2020.024|2020|  5|                  160.00|                       1872.00|  4|         44.44|        4|                1872.00|       107|           202005|    2020|       5|\n|  ADS.2020.024|2020|  6|                  128.00|                       1872.00|  5|         51.55|        4|                1872.00|       107|           202006|    2020|       6|\n|  ADS.2020.024|2020|  7|                  184.00|                       1872.00|  6|         61.78|        4|                1872.00|       107|           202007|    2020|       7|\n|  ADS.2020.024|2020|  8|                  128.00|                       1872.00|  7|         68.89|        4|                1872.00|       107|           202008|    2020|       8|\n|  ADS.2020.024|2020|  9|                  176.00|                       1872.00|  8|         78.67|        4|                1872.00|       107|           202009|    2020|       9|\n|  ADS.2020.024|2020| 10|                  168.00|                       1872.00|  9|         88.00|        4|                1872.00|       107|           202010|    2020|      10|\n|  ADS.2020.024|2020| 11|                  160.00|                       1872.00| 10|         96.88|        4|                1872.00|       107|           202011|    2020|      11|\n|  ADS.2020.024|2020| 12|                  128.00|                       1872.00| 11|        100.00|        4|                1872.00|       107|           202012|    2020|      12|\n|ARMIS.2012.005|2012|  1|                  883.00|                       5037.00| 12|        100.00|        3|                   null|        -1|           201201|    2012|       1|\n|ARMIS.2012.005|2012|  2|                  292.00|                       5037.00| 13|        100.00|        3|                   null|        -1|           201202|    2012|       2|\n|ARMIS.2012.005|2012|  3|                  496.00|                       5037.00| 14|        100.00|        3|                   null|        -1|           201203|    2012|       3|\n|ARMIS.2012.005|2012|  4|                  344.00|                       5037.00| 15|        100.00|        3|                   null|        -1|           201204|    2012|       4|\n|ARMIS.2012.005|2012|  5|                  634.00|                       5037.00| 16|        100.00|        3|                   null|        -1|           201205|    2012|       5|\n|ARMIS.2012.005|2012|  6|                  308.00|                       5037.00| 17|        100.00|        3|                   null|        -1|           201206|    2012|       6|\n|ARMIS.2012.005|2012|  7|                  248.00|                       5037.00| 18|        100.00|        3|                   null|        -1|           201207|    2012|       7|\n|ARMIS.2012.005|2012|  8|                  256.00|                       5037.00| 19|        100.00|        3|                   null|        -1|           201208|    2012|       8|\n+--------------+----+---+------------------------+------------------------------+---+--------------+---------+-----------------------+----------+-----------------+--------+--------+\nonly showing top 20 rows\n\n+--------------+------------------------+------------------------------+---+--------------+---------+-----------------------+----------+-------------+\n| CodigoProjeto|Horas_Realizadas_Projeto|Total_Horas_Realizadas_Projeto| ID|Avanco_Projeto|ID_Estado|Horas_Previstas_Projeto|ID_Projeto|ID_Calendario|\n+--------------+------------------------+------------------------------+---+--------------+---------+-----------------------+----------+-------------+\n|  ADS.2020.024|                  144.00|                       1872.00|  0|          8.00|        4|                1872.00|       107|       202001|\n|  ADS.2020.024|                  152.00|                       1872.00|  1|         16.44|        4|                1872.00|       107|       202002|\n|  ADS.2020.024|                  176.00|                       1872.00|  2|         26.22|        4|                1872.00|       107|       202003|\n|  ADS.2020.024|                  168.00|                       1872.00|  3|         35.55|        4|                1872.00|       107|       202004|\n|  ADS.2020.024|                  160.00|                       1872.00|  4|         44.44|        4|                1872.00|       107|       202005|\n|  ADS.2020.024|                  128.00|                       1872.00|  5|         51.55|        4|                1872.00|       107|       202006|\n|  ADS.2020.024|                  184.00|                       1872.00|  6|         61.78|        4|                1872.00|       107|       202007|\n|  ADS.2020.024|                  128.00|                       1872.00|  7|         68.89|        4|                1872.00|       107|       202008|\n|  ADS.2020.024|                  176.00|                       1872.00|  8|         78.67|        4|                1872.00|       107|       202009|\n|  ADS.2020.024|                  168.00|                       1872.00|  9|         88.00|        4|                1872.00|       107|       202010|\n|  ADS.2020.024|                  160.00|                       1872.00| 10|         96.88|        4|                1872.00|       107|       202011|\n|  ADS.2020.024|                  128.00|                       1872.00| 11|        100.00|        4|                1872.00|       107|       202012|\n|ARMIS.2012.005|                  883.00|                       5037.00| 12|        100.00|        3|                   null|        -1|       201201|\n|ARMIS.2012.005|                  292.00|                       5037.00| 13|        100.00|        3|                   null|        -1|       201202|\n|ARMIS.2012.005|                  496.00|                       5037.00| 14|        100.00|        3|                   null|        -1|       201203|\n|ARMIS.2012.005|                  344.00|                       5037.00| 15|        100.00|        3|                   null|        -1|       201204|\n|ARMIS.2012.005|                  634.00|                       5037.00| 16|        100.00|        3|                   null|        -1|       201205|\n|ARMIS.2012.005|                  308.00|                       5037.00| 17|        100.00|        3|                   null|        -1|       201206|\n|ARMIS.2012.005|                  248.00|                       5037.00| 18|        100.00|        3|                   null|        -1|       201207|\n|ARMIS.2012.005|                  256.00|                       5037.00| 19|        100.00|        3|                   null|        -1|       201208|\n+--------------+------------------------+------------------------------+---+--------------+---------+-----------------------+----------+-------------+\nonly showing top 20 rows\n\n+--------------+------------------------+------------------------------+---+--------------+---------+----------+-------------+------------------------------+--------------------------------------+\n| CodigoProjeto|Horas_Realizadas_Projeto|Total_Horas_Realizadas_Projeto| ID|Avanco_Projeto|ID_Estado|ID_Projeto|ID_Calendario|Horas_Previstas_Mes_Por_Avanco|ID_Classificacao_Produtividade_Projeto|\n+--------------+------------------------+------------------------------+---+--------------+---------+----------+-------------+------------------------------+--------------------------------------+\n|  ADS.2020.024|                  144.00|                       1872.00|  0|          8.00|        4|       107|       202001|                    149.760000|                                     1|\n|  ADS.2020.024|                  152.00|                       1872.00|  1|         16.44|        4|       107|       202002|                    307.756800|                                     1|\n|  ADS.2020.024|                  176.00|                       1872.00|  2|         26.22|        4|       107|       202003|                    490.838400|                                     1|\n|  ADS.2020.024|                  168.00|                       1872.00|  3|         35.55|        4|       107|       202004|                    665.496000|                                     1|\n|  ADS.2020.024|                  160.00|                       1872.00|  4|         44.44|        4|       107|       202005|                    831.916800|                                     1|\n|  ADS.2020.024|                  128.00|                       1872.00|  5|         51.55|        4|       107|       202006|                    965.016000|                                     1|\n|  ADS.2020.024|                  184.00|                       1872.00|  6|         61.78|        4|       107|       202007|                   1156.521600|                                     1|\n|  ADS.2020.024|                  128.00|                       1872.00|  7|         68.89|        4|       107|       202008|                   1289.620800|                                     1|\n|  ADS.2020.024|                  176.00|                       1872.00|  8|         78.67|        4|       107|       202009|                   1472.702400|                                     1|\n|  ADS.2020.024|                  168.00|                       1872.00|  9|         88.00|        4|       107|       202010|                   1647.360000|                                     1|\n|  ADS.2020.024|                  160.00|                       1872.00| 10|         96.88|        4|       107|       202011|                   1813.593600|                                     1|\n|  ADS.2020.024|                  128.00|                       1872.00| 11|        100.00|        4|       107|       202012|                   1872.000000|                                     1|\n|ARMIS.2012.005|                  883.00|                       5037.00| 12|        100.00|        3|        -1|       201201|                     -1.000000|                                    -1|\n|ARMIS.2012.005|                  292.00|                       5037.00| 13|        100.00|        3|        -1|       201202|                     -1.000000|                                    -1|\n|ARMIS.2012.005|                  496.00|                       5037.00| 14|        100.00|        3|        -1|       201203|                     -1.000000|                                    -1|\n|ARMIS.2012.005|                  344.00|                       5037.00| 15|        100.00|        3|        -1|       201204|                     -1.000000|                                    -1|\n|ARMIS.2012.005|                  634.00|                       5037.00| 16|        100.00|        3|        -1|       201205|                     -1.000000|                                    -1|\n|ARMIS.2012.005|                  308.00|                       5037.00| 17|        100.00|        3|        -1|       201206|                     -1.000000|                                    -1|\n|ARMIS.2012.005|                  248.00|                       5037.00| 18|        100.00|        3|        -1|       201207|                     -1.000000|                                    -1|\n|ARMIS.2012.005|                  256.00|                       5037.00| 19|        100.00|        3|        -1|       201208|                     -1.000000|                                    -1|\n+--------------+------------------------+------------------------------+---+--------------+---------+----------+-------------+------------------------------+--------------------------------------+\nonly showing top 20 rows\n\n+---+--------------+------------------------+------------------------------+---------+----------+-------------+--------------------------------------+\n| ID|Avanco_Projeto|Horas_Realizadas_Projeto|Horas_Previstas_Mes_Por_Avanco|ID_Estado|ID_Projeto|ID_Calendario|ID_Classificacao_Produtividade_Projeto|\n+---+--------------+------------------------+------------------------------+---------+----------+-------------+--------------------------------------+\n|  0|          8.00|                  144.00|                    149.760000|        4|       107|       202001|                                     1|\n|  1|         16.44|                  152.00|                    307.756800|        4|       107|       202002|                                     1|\n|  2|         26.22|                  176.00|                    490.838400|        4|       107|       202003|                                     1|\n|  3|         35.55|                  168.00|                    665.496000|        4|       107|       202004|                                     1|\n|  4|         44.44|                  160.00|                    831.916800|        4|       107|       202005|                                     1|\n|  5|         51.55|                  128.00|                    965.016000|        4|       107|       202006|                                     1|\n|  6|         61.78|                  184.00|                   1156.521600|        4|       107|       202007|                                     1|\n|  7|         68.89|                  128.00|                   1289.620800|        4|       107|       202008|                                     1|\n|  8|         78.67|                  176.00|                   1472.702400|        4|       107|       202009|                                     1|\n|  9|         88.00|                  168.00|                   1647.360000|        4|       107|       202010|                                     1|\n| 10|         96.88|                  160.00|                   1813.593600|        4|       107|       202011|                                     1|\n| 11|        100.00|                  128.00|                   1872.000000|        4|       107|       202012|                                     1|\n| 12|        100.00|                  883.00|                     -1.000000|        3|        -1|       201201|                                    -1|\n| 13|        100.00|                  292.00|                     -1.000000|        3|        -1|       201202|                                    -1|\n| 14|        100.00|                  496.00|                     -1.000000|        3|        -1|       201203|                                    -1|\n| 15|        100.00|                  344.00|                     -1.000000|        3|        -1|       201204|                                    -1|\n| 16|        100.00|                  634.00|                     -1.000000|        3|        -1|       201205|                                    -1|\n| 17|        100.00|                  308.00|                     -1.000000|        3|        -1|       201206|                                    -1|\n| 18|        100.00|                  248.00|                     -1.000000|        3|        -1|       201207|                                    -1|\n| 19|        100.00|                  256.00|                     -1.000000|        3|        -1|       201208|                                    -1|\n+---+--------------+------------------------+------------------------------+---------+----------+-------------+--------------------------------------+\nonly showing top 20 rows\n\n"
     ]
    }
   ],
   "source": [
    "'''\n",
    "  [0%, 100%[ - 5        - classification id 0\n",
    "  100% - 4              - classification id 1\n",
    "  ]100%, 125%] - 3      - classification id 2\n",
    "  ]125%, 150%] - 2      - classification id 3\n",
    "  ]150%, 175%] - 1      - classification id 4\n",
    "  ]175%, +∞] - 0        - classification id 5\n",
    "  '''\n",
    "from pyspark.sql import SparkSession\n",
    "from pyspark.sql.functions import col, year, month, last, date_trunc, when, sum, lit, coalesce, monotonically_increasing_id\n",
    "from pyspark.sql.window import Window\n",
    "import pandas as pd\n",
    "\n",
    "spark = SparkSession.builder.appName(\"Produtividade\").getOrCreate()\n",
    "\n",
    "# Read data from database\n",
    "projects_mensal = spark.read.jdbc(url=jdbcUrl, table=\"(select [CodigoProjeto], [Ano], [Mes], sum([HorasRealizadas]) as Horas_Realizadas_Projeto from ( select [CodigoProjeto], [Username], [Ano], [Mes], [FK_TarefaID], sum([NHoras]) as HorasRealizadas from [stg].[EXT_TBL_IMPUTACAO_DETALHE] group by [CodigoProjeto], [Username], [Ano], [Mes], [FK_TarefaID]) as T group by [CodigoProjeto], [Ano], [Mes]) AS query\", properties=connectionProperties)\n",
    "\n",
    "''' for better visualization\n",
    "select [CodigoProjeto], [Ano], [Mes], sum([HorasRealizadas]) as Horas_Realizadas_Projeto \n",
    "from ( select [CodigoProjeto], [Username], [Ano], [Mes], [FK_TarefaID], sum([NHoras]) as HorasRealizadas \n",
    "  from [stg].[EXT_TBL_IMPUTACAO_DETALHE] \n",
    "  group by [CodigoProjeto], [Username], [Ano], [Mes], [FK_TarefaID]) as T \n",
    "group by [CodigoProjeto], [Ano], [Mes]\n",
    "'''\n",
    "\n",
    "get_hours_performed = \"(select [CodigoProjeto] as CodigoHoras, sum([NHoras]) as Total_Horas_Realizadas_Projeto_Query from [stg].[EXT_TBL_IMPUTACAO_DETALHE] group by [CodigoProjeto]) AS query\"\n",
    "hours_performed = spark.read.jdbc(url=jdbcUrl, table=get_hours_performed, properties=connectionProperties)\n",
    "\n",
    "projects_mensal = projects_mensal.join(hours_performed, projects_mensal.CodigoProjeto == hours_performed.CodigoHoras, \"left\")\n",
    "projects_mensal.show()\n",
    "projects_mensal = projects_mensal.withColumn(\"Total_Horas_Realizadas_Projeto\", (col(\"Total_Horas_Realizadas_Projeto_Query\"))).drop(\"Total_Horas_Realizadas_Projeto_Query\", \"CodigoHoras\")\n",
    "projects_mensal.show()\n",
    "\n",
    "# Generate ID column\n",
    "projects_mensal = projects_mensal.withColumn(\"ID\", monotonically_increasing_id())\n",
    "projects_mensal.show()\n",
    "\n",
    "# Advance\n",
    "advance = spark.read.jdbc(url=jdbcUrl, table=\"(select [CodigoProjecto], [DataAvanco], [Avanco] as Avanco_Projeto from [stg].[EXT_TBL_HISTORICO_AVANCOS]) AS query\", properties=connectionProperties)\n",
    "projects_mensal = projects_mensal.join(advance, (projects_mensal.CodigoProjeto == advance.CodigoProjecto) & (projects_mensal.Ano == year(advance.DataAvanco)) & (projects_mensal.Mes == month(advance.DataAvanco)), \"left\")\n",
    "projects_mensal.show(n = 50)\n",
    "projects_mensal_pandas = projects_mensal.toPandas()\n",
    "projects_mensal_pandas = projects_mensal_pandas.groupby([\"CodigoProjeto\", \"Ano\", \"Mes\"]).apply(lambda x: x.sort_values([\"Ano\", \"Mes\"]))\n",
    "projects_mensal_pandas['Avanco_Projeto'] = projects_mensal_pandas['Avanco_Projeto'].fillna(method = 'ffill')\n",
    "projects_mensal = spark.createDataFrame(projects_mensal_pandas)\n",
    "projects_mensal = projects_mensal.drop(\"CodigoProjecto\", \"DataAvanco\")\n",
    "projects_mensal.show()\n",
    "\n",
    "# State \n",
    "state = spark.read.jdbc(url=jdbcUrl, table=\"(select [Estado], [CodigoProjeto] as CodigoProjetoQuery from [stg].[EXT_TBL_PROJETOS]) AS query\", properties=connectionProperties)\n",
    "projects_mensal = projects_mensal.join(state, projects_mensal.CodigoProjeto == state.CodigoProjetoQuery, \"left\")\n",
    "projects_mensal.show()\n",
    "state_info = spark.read.jdbc(url=jdbcUrl, table=\"(select [ID_Estado] as IDEstadoQuery, [Estado] as EstadoQuery from [dwProdutividade].[DIM_ESTADO]) AS query\", properties=connectionProperties)\n",
    "projects_mensal = projects_mensal.join(state_info, projects_mensal.Estado == state_info.EstadoQuery, \"left\")\n",
    "projects_mensal.show()\n",
    "projects_mensal = projects_mensal.withColumn(\"ID_Estado\", when(col(\"IDEstadoQuery\").isNull(), -1).otherwise(col(\"IDEstadoQuery\"))).drop(\"CodigoProjetoQuery\", \"IDEstadoQuery\", \"EstadoQuery\", \"Estado\")\n",
    "projects_mensal.show()\n",
    "\n",
    "# Calculate Project ID\n",
    "project = spark.read.jdbc(url=jdbcUrl, table=\"(select [ID_Projeto] as IDProjetoID, [Codigo_Projeto], [Horas_Previstas_Projeto] from [dwProdutividade].[DIM_PROJETO]) AS query\", properties=connectionProperties)\n",
    "projects_mensal = projects_mensal.join(project, projects_mensal.CodigoProjeto == project.Codigo_Projeto, \"left\")\n",
    "projects_mensal.show()\n",
    "projects_mensal = projects_mensal.withColumn(\"ID_Projeto\", when(col(\"IDProjetoID\").isNull(), -1).otherwise(col(\"IDProjetoID\"))).drop(\"IDProjetoID\", \"Codigo_Projeto\")\n",
    "projects_mensal.show()\n",
    "\n",
    "# Calculate Calendar ID\n",
    "calendar = spark.read.jdbc(url=jdbcUrl, table=\"(select [ID_Calendario] as IDCalendarioQuery, [Ano] as AnoQuery, [Mes] as MesQuery from [dwProdutividade].[DIM_CALENDARIO]) AS query\", properties=connectionProperties)\n",
    "projects_mensal = projects_mensal.join(calendar, (projects_mensal.Ano == calendar.AnoQuery) & (projects_mensal.Mes == calendar.MesQuery), \"left\")\n",
    "projects_mensal.show()\n",
    "projects_mensal = projects_mensal.withColumn(\"ID_Calendario\", when(col(\"IDCalendarioQuery\").isNull(), -1).otherwise(col(\"IDCalendarioQuery\"))).drop(\"Ano\", \"Mes\", \"IDCalendarioQuery\", \"AnoQuery\", \"MesQuery\")\n",
    "projects_mensal.show()\n",
    "\n",
    "# Calculate Monthly Hours Expected per Advance\n",
    "projects_mensal = projects_mensal.withColumn(\"Horas_Previstas_Mes_Por_Avanco\", when(col(\"Horas_Previstas_Projeto\").isNull() , -1)\n",
    "                                                                      .when(col(\"Horas_Previstas_Projeto\") == 0 , -1)\n",
    "                                                                      .when(col(\"Avanco_Projeto\").isNull() , -1)\n",
    "                                                                      .otherwise(col(\"Avanco_Projeto\") / 100 * col(\"Horas_Previstas_Projeto\")))\n",
    "# Calculate Classification ID\n",
    "projects_mensal = projects_mensal.withColumn(\"ID_Classificacao_Produtividade_Projeto\", when(col(\"Total_Horas_Realizadas_Projeto\").isNull() , -1)\n",
    "                                                                      .when(col(\"Horas_Previstas_Projeto\").isNull() , -1)\n",
    "                                                                      .when(col(\"Horas_Previstas_Projeto\") == 0 , -1)\n",
    "                                                                      .when(col(\"Total_Horas_Realizadas_Projeto\") / col(\"Horas_Previstas_Projeto\") < 1, 0)\n",
    "                                                                      .when(col(\"Total_Horas_Realizadas_Projeto\") / col(\"Horas_Previstas_Projeto\") == 1, 1)\n",
    "                                                                      .when(col(\"Total_Horas_Realizadas_Projeto\") / col(\"Horas_Previstas_Projeto\") <= 1.25, 2)\n",
    "                                                                      .when(col(\"Total_Horas_Realizadas_Projeto\") / col(\"Horas_Previstas_Projeto\") <= 1.50, 3)\n",
    "                                                                      .when(col(\"Total_Horas_Realizadas_Projeto\") / col(\"Horas_Previstas_Projeto\") <= 1.75, 4)\n",
    "                                                                      .otherwise(5)).drop(\"Horas_Previstas_Projeto\")\n",
    "projects_mensal.show()\n",
    "\n",
    "# Write final output to database\n",
    "projects_mensal = projects_mensal.select(col(\"ID\"), col(\"Avanco_Projeto\"), col(\"Horas_Realizadas_Projeto\"), col(\"Horas_Previstas_Mes_Por_Avanco\"), col(\"ID_Estado\"), col(\"ID_Projeto\"), col(\"ID_Calendario\"), col(\"ID_Classificacao_Produtividade_Projeto\"))\n",
    "projects_mensal.show()\n",
    "\n",
    "projects_mensal.write.jdbc(url=jdbcUrl, table=\"[dwProdutividade].[FACTO_PROJETO]\", mode=\"overwrite\", properties=connectionProperties)"
   ]
  }
 ],
 "metadata": {
  "application/vnd.databricks.v1+notebook": {
   "dashboards": [],
   "language": "python",
   "notebookMetadata": {
    "mostRecentlyExecutedCommandWithImplicitDF": {
     "commandId": 4084851272068028,
     "dataframes": [
      "_sqldf"
     ]
    },
    "pythonIndentUnit": 2
   },
   "notebookName": "data_transformation",
   "widgets": {}
  },
  "kernelspec": {
   "display_name": "base",
   "language": "python",
   "name": "python3"
  },
  "language_info": {
   "codemirror_mode": {
    "name": "ipython",
    "version": 3
   },
   "file_extension": ".py",
   "mimetype": "text/x-python",
   "name": "python",
   "nbconvert_exporter": "python",
   "pygments_lexer": "ipython3",
   "version": "3.9.13"
  }
 },
 "nbformat": 4,
 "nbformat_minor": 0
}
